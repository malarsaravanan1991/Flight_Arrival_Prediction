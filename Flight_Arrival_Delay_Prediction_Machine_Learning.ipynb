{
 "cells": [
  {
   "cell_type": "markdown",
   "metadata": {},
   "source": [
    "# Predicting Arrival Times for Denver airport using Random Forests and Naive Bayes"
   ]
  },
  {
   "cell_type": "markdown",
   "metadata": {},
   "source": [
    "The data is of 2008 for Flight arrival times for Denver airport. We will use this data to predict arrival times for planes in order to help a potential passenger figure out which flight to book so that they can avoid getting delayed."
   ]
  },
  {
   "cell_type": "code",
   "execution_count": 1,
   "metadata": {},
   "outputs": [],
   "source": [
    "import os\n",
    "import pandas as pd\n",
    "import datetime as datetime\n",
    "import numpy as np\n",
    "import seaborn as sns; sns.set(); sns.set(font_scale=1.3)\n",
    "import matplotlib.pyplot as plt\n",
    "\n",
    "# Random Forest Libraries\n",
    "from sklearn.ensemble import RandomForestRegressor\n",
    "from sklearn.model_selection import train_test_split\n",
    "from sklearn.metrics import mean_squared_error as MSE\n",
    "from sklearn.model_selection import RandomizedSearchCV #For hyperparameter tuning\n",
    "from sklearn.ensemble import RandomForestClassifier\n",
    "\n",
    "# Model Performance Measurement libraries\n",
    "from sklearn.metrics import roc_curve\n",
    "from sklearn.metrics import confusion_matrix\n",
    "from sklearn.metrics import classification_report\n",
    "from sklearn.metrics import accuracy_score\n",
    "\n",
    "#Naive Bayes Libraries\n",
    "from sklearn.naive_bayes import GaussianNB\n",
    "\n",
    "# Seed for reproducibility\n",
    "SEED = 1"
   ]
  },
  {
   "cell_type": "code",
   "execution_count": 2,
   "metadata": {},
   "outputs": [
    {
     "data": {
      "text/plain": [
       "299999"
      ]
     },
     "execution_count": 2,
     "metadata": {},
     "output_type": "execute_result"
    }
   ],
   "source": [
    "# Read the csv file using pandas\n",
    "den = pd.read_csv('2008_data.csv')\n",
    "den.shape[0]"
   ]
  },
  {
   "cell_type": "code",
   "execution_count": 3,
   "metadata": {},
   "outputs": [],
   "source": [
    "# to view all columns in the dataframe\n",
    "pd.set_option('display.max_columns', 500)"
   ]
  },
  {
   "cell_type": "code",
   "execution_count": 4,
   "metadata": {},
   "outputs": [
    {
     "data": {
      "text/html": [
       "<div>\n",
       "<style scoped>\n",
       "    .dataframe tbody tr th:only-of-type {\n",
       "        vertical-align: middle;\n",
       "    }\n",
       "\n",
       "    .dataframe tbody tr th {\n",
       "        vertical-align: top;\n",
       "    }\n",
       "\n",
       "    .dataframe thead th {\n",
       "        text-align: right;\n",
       "    }\n",
       "</style>\n",
       "<table border=\"1\" class=\"dataframe\">\n",
       "  <thead>\n",
       "    <tr style=\"text-align: right;\">\n",
       "      <th></th>\n",
       "      <th>Year</th>\n",
       "      <th>Month</th>\n",
       "      <th>DayofMonth</th>\n",
       "      <th>DayOfWeek</th>\n",
       "      <th>DepTime</th>\n",
       "      <th>CRSDepTime</th>\n",
       "      <th>ArrTime</th>\n",
       "      <th>CRSArrTime</th>\n",
       "      <th>UniqueCarrier</th>\n",
       "      <th>FlightNum</th>\n",
       "      <th>TailNum</th>\n",
       "      <th>ActualElapsedTime</th>\n",
       "      <th>CRSElapsedTime</th>\n",
       "      <th>AirTime</th>\n",
       "      <th>ArrDelay</th>\n",
       "      <th>DepDelay</th>\n",
       "      <th>Origin</th>\n",
       "      <th>Dest</th>\n",
       "      <th>Distance</th>\n",
       "      <th>TaxiIn</th>\n",
       "      <th>TaxiOut</th>\n",
       "      <th>Cancelled</th>\n",
       "      <th>CancellationCode</th>\n",
       "      <th>Diverted</th>\n",
       "      <th>CarrierDelay</th>\n",
       "      <th>WeatherDelay</th>\n",
       "      <th>NASDelay</th>\n",
       "      <th>SecurityDelay</th>\n",
       "      <th>LateAircraftDelay</th>\n",
       "    </tr>\n",
       "  </thead>\n",
       "  <tbody>\n",
       "    <tr>\n",
       "      <th>0</th>\n",
       "      <td>2008</td>\n",
       "      <td>1</td>\n",
       "      <td>3</td>\n",
       "      <td>4</td>\n",
       "      <td>2003.0</td>\n",
       "      <td>1955</td>\n",
       "      <td>2211.0</td>\n",
       "      <td>2225</td>\n",
       "      <td>WN</td>\n",
       "      <td>335</td>\n",
       "      <td>N712SW</td>\n",
       "      <td>128.0</td>\n",
       "      <td>150</td>\n",
       "      <td>116.0</td>\n",
       "      <td>-14.0</td>\n",
       "      <td>8.0</td>\n",
       "      <td>IAD</td>\n",
       "      <td>TPA</td>\n",
       "      <td>810</td>\n",
       "      <td>4.0</td>\n",
       "      <td>8.0</td>\n",
       "      <td>0</td>\n",
       "      <td>NaN</td>\n",
       "      <td>0</td>\n",
       "      <td>NaN</td>\n",
       "      <td>NaN</td>\n",
       "      <td>NaN</td>\n",
       "      <td>NaN</td>\n",
       "      <td>NaN</td>\n",
       "    </tr>\n",
       "    <tr>\n",
       "      <th>1</th>\n",
       "      <td>2008</td>\n",
       "      <td>1</td>\n",
       "      <td>3</td>\n",
       "      <td>4</td>\n",
       "      <td>754.0</td>\n",
       "      <td>735</td>\n",
       "      <td>1002.0</td>\n",
       "      <td>1000</td>\n",
       "      <td>WN</td>\n",
       "      <td>3231</td>\n",
       "      <td>N772SW</td>\n",
       "      <td>128.0</td>\n",
       "      <td>145</td>\n",
       "      <td>113.0</td>\n",
       "      <td>2.0</td>\n",
       "      <td>19.0</td>\n",
       "      <td>IAD</td>\n",
       "      <td>TPA</td>\n",
       "      <td>810</td>\n",
       "      <td>5.0</td>\n",
       "      <td>10.0</td>\n",
       "      <td>0</td>\n",
       "      <td>NaN</td>\n",
       "      <td>0</td>\n",
       "      <td>NaN</td>\n",
       "      <td>NaN</td>\n",
       "      <td>NaN</td>\n",
       "      <td>NaN</td>\n",
       "      <td>NaN</td>\n",
       "    </tr>\n",
       "    <tr>\n",
       "      <th>2</th>\n",
       "      <td>2008</td>\n",
       "      <td>1</td>\n",
       "      <td>3</td>\n",
       "      <td>4</td>\n",
       "      <td>628.0</td>\n",
       "      <td>620</td>\n",
       "      <td>804.0</td>\n",
       "      <td>750</td>\n",
       "      <td>WN</td>\n",
       "      <td>448</td>\n",
       "      <td>N428WN</td>\n",
       "      <td>96.0</td>\n",
       "      <td>90</td>\n",
       "      <td>76.0</td>\n",
       "      <td>14.0</td>\n",
       "      <td>8.0</td>\n",
       "      <td>IND</td>\n",
       "      <td>BWI</td>\n",
       "      <td>515</td>\n",
       "      <td>3.0</td>\n",
       "      <td>17.0</td>\n",
       "      <td>0</td>\n",
       "      <td>NaN</td>\n",
       "      <td>0</td>\n",
       "      <td>NaN</td>\n",
       "      <td>NaN</td>\n",
       "      <td>NaN</td>\n",
       "      <td>NaN</td>\n",
       "      <td>NaN</td>\n",
       "    </tr>\n",
       "    <tr>\n",
       "      <th>3</th>\n",
       "      <td>2008</td>\n",
       "      <td>1</td>\n",
       "      <td>3</td>\n",
       "      <td>4</td>\n",
       "      <td>926.0</td>\n",
       "      <td>930</td>\n",
       "      <td>1054.0</td>\n",
       "      <td>1100</td>\n",
       "      <td>WN</td>\n",
       "      <td>1746</td>\n",
       "      <td>N612SW</td>\n",
       "      <td>88.0</td>\n",
       "      <td>90</td>\n",
       "      <td>78.0</td>\n",
       "      <td>-6.0</td>\n",
       "      <td>-4.0</td>\n",
       "      <td>IND</td>\n",
       "      <td>BWI</td>\n",
       "      <td>515</td>\n",
       "      <td>3.0</td>\n",
       "      <td>7.0</td>\n",
       "      <td>0</td>\n",
       "      <td>NaN</td>\n",
       "      <td>0</td>\n",
       "      <td>NaN</td>\n",
       "      <td>NaN</td>\n",
       "      <td>NaN</td>\n",
       "      <td>NaN</td>\n",
       "      <td>NaN</td>\n",
       "    </tr>\n",
       "    <tr>\n",
       "      <th>4</th>\n",
       "      <td>2008</td>\n",
       "      <td>1</td>\n",
       "      <td>3</td>\n",
       "      <td>4</td>\n",
       "      <td>1829.0</td>\n",
       "      <td>1755</td>\n",
       "      <td>1959.0</td>\n",
       "      <td>1925</td>\n",
       "      <td>WN</td>\n",
       "      <td>3920</td>\n",
       "      <td>N464WN</td>\n",
       "      <td>90.0</td>\n",
       "      <td>90</td>\n",
       "      <td>77.0</td>\n",
       "      <td>34.0</td>\n",
       "      <td>34.0</td>\n",
       "      <td>IND</td>\n",
       "      <td>BWI</td>\n",
       "      <td>515</td>\n",
       "      <td>3.0</td>\n",
       "      <td>10.0</td>\n",
       "      <td>0</td>\n",
       "      <td>NaN</td>\n",
       "      <td>0</td>\n",
       "      <td>2.0</td>\n",
       "      <td>0.0</td>\n",
       "      <td>0.0</td>\n",
       "      <td>0.0</td>\n",
       "      <td>32.0</td>\n",
       "    </tr>\n",
       "  </tbody>\n",
       "</table>\n",
       "</div>"
      ],
      "text/plain": [
       "   Year  Month  DayofMonth  DayOfWeek  DepTime  CRSDepTime  ArrTime  \\\n",
       "0  2008      1           3          4   2003.0        1955   2211.0   \n",
       "1  2008      1           3          4    754.0         735   1002.0   \n",
       "2  2008      1           3          4    628.0         620    804.0   \n",
       "3  2008      1           3          4    926.0         930   1054.0   \n",
       "4  2008      1           3          4   1829.0        1755   1959.0   \n",
       "\n",
       "   CRSArrTime UniqueCarrier  FlightNum TailNum  ActualElapsedTime  \\\n",
       "0        2225            WN        335  N712SW              128.0   \n",
       "1        1000            WN       3231  N772SW              128.0   \n",
       "2         750            WN        448  N428WN               96.0   \n",
       "3        1100            WN       1746  N612SW               88.0   \n",
       "4        1925            WN       3920  N464WN               90.0   \n",
       "\n",
       "   CRSElapsedTime  AirTime  ArrDelay  DepDelay Origin Dest  Distance  TaxiIn  \\\n",
       "0             150    116.0     -14.0       8.0    IAD  TPA       810     4.0   \n",
       "1             145    113.0       2.0      19.0    IAD  TPA       810     5.0   \n",
       "2              90     76.0      14.0       8.0    IND  BWI       515     3.0   \n",
       "3              90     78.0      -6.0      -4.0    IND  BWI       515     3.0   \n",
       "4              90     77.0      34.0      34.0    IND  BWI       515     3.0   \n",
       "\n",
       "   TaxiOut  Cancelled CancellationCode  Diverted  CarrierDelay  WeatherDelay  \\\n",
       "0      8.0          0              NaN         0           NaN           NaN   \n",
       "1     10.0          0              NaN         0           NaN           NaN   \n",
       "2     17.0          0              NaN         0           NaN           NaN   \n",
       "3      7.0          0              NaN         0           NaN           NaN   \n",
       "4     10.0          0              NaN         0           2.0           0.0   \n",
       "\n",
       "   NASDelay  SecurityDelay  LateAircraftDelay  \n",
       "0       NaN            NaN                NaN  \n",
       "1       NaN            NaN                NaN  \n",
       "2       NaN            NaN                NaN  \n",
       "3       NaN            NaN                NaN  \n",
       "4       0.0            0.0               32.0  "
      ]
     },
     "execution_count": 4,
     "metadata": {},
     "output_type": "execute_result"
    }
   ],
   "source": [
    "# Looking at a few rows to understand the data\n",
    "den.head()"
   ]
  },
  {
   "cell_type": "code",
   "execution_count": 5,
   "metadata": {},
   "outputs": [
    {
     "data": {
      "text/plain": [
       "Year                   int64\n",
       "Month                  int64\n",
       "DayofMonth             int64\n",
       "DayOfWeek              int64\n",
       "DepTime              float64\n",
       "CRSDepTime             int64\n",
       "ArrTime              float64\n",
       "CRSArrTime             int64\n",
       "UniqueCarrier         object\n",
       "FlightNum              int64\n",
       "TailNum               object\n",
       "ActualElapsedTime    float64\n",
       "CRSElapsedTime         int64\n",
       "AirTime              float64\n",
       "ArrDelay             float64\n",
       "DepDelay             float64\n",
       "Origin                object\n",
       "Dest                  object\n",
       "Distance               int64\n",
       "TaxiIn               float64\n",
       "TaxiOut              float64\n",
       "Cancelled              int64\n",
       "CancellationCode      object\n",
       "Diverted               int64\n",
       "CarrierDelay         float64\n",
       "WeatherDelay         float64\n",
       "NASDelay             float64\n",
       "SecurityDelay        float64\n",
       "LateAircraftDelay    float64\n",
       "dtype: object"
      ]
     },
     "execution_count": 5,
     "metadata": {},
     "output_type": "execute_result"
    }
   ],
   "source": [
    "# We can see so many record with NaN values \n",
    "# define the datatypes of each column\n",
    "den.dtypes"
   ]
  },
  {
   "cell_type": "code",
   "execution_count": 6,
   "metadata": {},
   "outputs": [
    {
     "data": {
      "text/plain": [
       "[Text(0, 0.5, 'Density of Probability'), Text(0.5, 0, 'ArrDelay value')]"
      ]
     },
     "execution_count": 6,
     "metadata": {},
     "output_type": "execute_result"
    },
    {
     "data": {
      "image/png": "[encoded data removed]",
      "text/plain": [
       "<Figure size 432x288 with 1 Axes>"
      ]
     },
     "metadata": {
      "needs_background": "light"
     },
     "output_type": "display_data"
    }
   ],
   "source": [
    "# Finding the Distribution of the Dependent variable \"ArrDelay\" which we will be using later in this Notebook \n",
    "# as part of our Classification model.\n",
    "ax = sns.distplot(den['ArrDelay'].dropna(axis = 0));\n",
    "ax.set_title('Histogram of ArrDelay')\n",
    "ax.set(xlabel='ArrDelay value', ylabel='Density of Probability')"
   ]
  },
  {
   "cell_type": "code",
   "execution_count": 7,
   "metadata": {},
   "outputs": [
    {
     "data": {
      "text/plain": [
       "8924"
      ]
     },
     "execution_count": 7,
     "metadata": {},
     "output_type": "execute_result"
    }
   ],
   "source": [
    "# taking care of NaN\n",
    "# Number of records with NaN\n",
    "den[den.ArrDelay.isna()].shape[0]\n",
    "# Alternative way to view unique values and counts \n",
    "# den.ArrDelay.value_counts(dropna=False)"
   ]
  },
  {
   "cell_type": "markdown",
   "metadata": {},
   "source": [
    "*These 8924 records are not useful records and should be removed. It cannot be replaced with 0s and hence cannot be used in prediction in our model or for testing the model.*"
   ]
  },
  {
   "cell_type": "code",
   "execution_count": 8,
   "metadata": {},
   "outputs": [
    {
     "data": {
      "text/plain": [
       "(291075, 29)"
      ]
     },
     "execution_count": 8,
     "metadata": {},
     "output_type": "execute_result"
    }
   ],
   "source": [
    "# Removing the records having null value in ArrDelay column\n",
    "den = den[den.ArrDelay.notnull()]\n",
    "den.shape"
   ]
  },
  {
   "cell_type": "code",
   "execution_count": 9,
   "metadata": {},
   "outputs": [],
   "source": [
    "# Fill null values with 0\n",
    "den = den.fillna(0)"
   ]
  },
  {
   "cell_type": "code",
   "execution_count": 10,
   "metadata": {},
   "outputs": [],
   "source": [
    "# Convert the time columns present in the dataset as hmm.0 or hhmm.0 to HH:MM:SS format - The Actual change\n",
    "def getTime(t):\n",
    "    if len(t) == 4:    # When the number has 4 digits\n",
    "        if t == \"2400\": # Convert 24 O'Clock to 0 O'Clock which is midnight\n",
    "            t = \"0000\"\n",
    "            \n",
    "        t = t + '00' # Add seconds as '00' so that we have a 6 digit string\n",
    "        return t[:2] + ':' + t[2:4] + ':' + t[4:] # Split the 6 digit number to the format 12:34:45\n",
    "    elif len(t) == 3: # When the number has 3 digits\n",
    "        # Add 0 to begining of the string to convert 0 to 9 hours as 00 to 09 hours \n",
    "        # Add seconds as '00' so that we have a 6 digit string\n",
    "        t = '0' + t + '00' \n",
    "        return t[:2] + ':' + t[2:4] + ':' + t[4:] # Split the 6 digit number to the format 12:34:45"
   ]
  },
  {
   "cell_type": "code",
   "execution_count": 11,
   "metadata": {},
   "outputs": [],
   "source": [
    "# Convert the time columns present in the dataset as hmm.0 or hhmm.0 to HH:MM:SS format - Preprocessing work to be done on the selected columns\n",
    "def transform_time_column(data,column):\n",
    "    # Convert float to string object\n",
    "    data[column] = data[column].apply(lambda x: str(x) if not pd.isnull(x) else x)\n",
    "    # Retain only whole number\n",
    "    data[column] = data[column].str.replace('\\.0','')\n",
    "    # Convert the whole number to HH:MM:SS\n",
    "    data[column] = data[column].map(getTime, na_action='ignore')\n",
    "    # Convert the column to timedelta64[ns] data type\n",
    "    data[column] = pd.to_timedelta(data[column],'T')"
   ]
  },
  {
   "cell_type": "code",
   "execution_count": 12,
   "metadata": {},
   "outputs": [
    {
     "data": {
      "text/html": [
       "<div>\n",
       "<style scoped>\n",
       "    .dataframe tbody tr th:only-of-type {\n",
       "        vertical-align: middle;\n",
       "    }\n",
       "\n",
       "    .dataframe tbody tr th {\n",
       "        vertical-align: top;\n",
       "    }\n",
       "\n",
       "    .dataframe thead th {\n",
       "        text-align: right;\n",
       "    }\n",
       "</style>\n",
       "<table border=\"1\" class=\"dataframe\">\n",
       "  <thead>\n",
       "    <tr style=\"text-align: right;\">\n",
       "      <th></th>\n",
       "      <th>Year</th>\n",
       "      <th>Month</th>\n",
       "      <th>DayofMonth</th>\n",
       "      <th>DayOfWeek</th>\n",
       "      <th>DepTime</th>\n",
       "      <th>CRSDepTime</th>\n",
       "      <th>ArrTime</th>\n",
       "      <th>CRSArrTime</th>\n",
       "      <th>UniqueCarrier</th>\n",
       "      <th>FlightNum</th>\n",
       "      <th>TailNum</th>\n",
       "      <th>ActualElapsedTime</th>\n",
       "      <th>CRSElapsedTime</th>\n",
       "      <th>AirTime</th>\n",
       "      <th>ArrDelay</th>\n",
       "      <th>DepDelay</th>\n",
       "      <th>Origin</th>\n",
       "      <th>Dest</th>\n",
       "      <th>Distance</th>\n",
       "      <th>TaxiIn</th>\n",
       "      <th>TaxiOut</th>\n",
       "      <th>Cancelled</th>\n",
       "      <th>CancellationCode</th>\n",
       "      <th>Diverted</th>\n",
       "      <th>CarrierDelay</th>\n",
       "      <th>WeatherDelay</th>\n",
       "      <th>NASDelay</th>\n",
       "      <th>SecurityDelay</th>\n",
       "      <th>LateAircraftDelay</th>\n",
       "    </tr>\n",
       "  </thead>\n",
       "  <tbody>\n",
       "    <tr>\n",
       "      <th>0</th>\n",
       "      <td>2008</td>\n",
       "      <td>1</td>\n",
       "      <td>3</td>\n",
       "      <td>4</td>\n",
       "      <td>20:03:00</td>\n",
       "      <td>19:55:00</td>\n",
       "      <td>22:11:00</td>\n",
       "      <td>22:25:00</td>\n",
       "      <td>WN</td>\n",
       "      <td>335</td>\n",
       "      <td>N712SW</td>\n",
       "      <td>128.0</td>\n",
       "      <td>150</td>\n",
       "      <td>116.0</td>\n",
       "      <td>-14.0</td>\n",
       "      <td>8.0</td>\n",
       "      <td>IAD</td>\n",
       "      <td>TPA</td>\n",
       "      <td>810</td>\n",
       "      <td>4.0</td>\n",
       "      <td>8.0</td>\n",
       "      <td>0</td>\n",
       "      <td>0</td>\n",
       "      <td>0</td>\n",
       "      <td>0.0</td>\n",
       "      <td>0.0</td>\n",
       "      <td>0.0</td>\n",
       "      <td>0.0</td>\n",
       "      <td>0.0</td>\n",
       "    </tr>\n",
       "    <tr>\n",
       "      <th>1</th>\n",
       "      <td>2008</td>\n",
       "      <td>1</td>\n",
       "      <td>3</td>\n",
       "      <td>4</td>\n",
       "      <td>07:54:00</td>\n",
       "      <td>07:35:00</td>\n",
       "      <td>10:02:00</td>\n",
       "      <td>10:00:00</td>\n",
       "      <td>WN</td>\n",
       "      <td>3231</td>\n",
       "      <td>N772SW</td>\n",
       "      <td>128.0</td>\n",
       "      <td>145</td>\n",
       "      <td>113.0</td>\n",
       "      <td>2.0</td>\n",
       "      <td>19.0</td>\n",
       "      <td>IAD</td>\n",
       "      <td>TPA</td>\n",
       "      <td>810</td>\n",
       "      <td>5.0</td>\n",
       "      <td>10.0</td>\n",
       "      <td>0</td>\n",
       "      <td>0</td>\n",
       "      <td>0</td>\n",
       "      <td>0.0</td>\n",
       "      <td>0.0</td>\n",
       "      <td>0.0</td>\n",
       "      <td>0.0</td>\n",
       "      <td>0.0</td>\n",
       "    </tr>\n",
       "    <tr>\n",
       "      <th>2</th>\n",
       "      <td>2008</td>\n",
       "      <td>1</td>\n",
       "      <td>3</td>\n",
       "      <td>4</td>\n",
       "      <td>06:28:00</td>\n",
       "      <td>06:20:00</td>\n",
       "      <td>08:04:00</td>\n",
       "      <td>07:50:00</td>\n",
       "      <td>WN</td>\n",
       "      <td>448</td>\n",
       "      <td>N428WN</td>\n",
       "      <td>96.0</td>\n",
       "      <td>90</td>\n",
       "      <td>76.0</td>\n",
       "      <td>14.0</td>\n",
       "      <td>8.0</td>\n",
       "      <td>IND</td>\n",
       "      <td>BWI</td>\n",
       "      <td>515</td>\n",
       "      <td>3.0</td>\n",
       "      <td>17.0</td>\n",
       "      <td>0</td>\n",
       "      <td>0</td>\n",
       "      <td>0</td>\n",
       "      <td>0.0</td>\n",
       "      <td>0.0</td>\n",
       "      <td>0.0</td>\n",
       "      <td>0.0</td>\n",
       "      <td>0.0</td>\n",
       "    </tr>\n",
       "    <tr>\n",
       "      <th>3</th>\n",
       "      <td>2008</td>\n",
       "      <td>1</td>\n",
       "      <td>3</td>\n",
       "      <td>4</td>\n",
       "      <td>09:26:00</td>\n",
       "      <td>09:30:00</td>\n",
       "      <td>10:54:00</td>\n",
       "      <td>11:00:00</td>\n",
       "      <td>WN</td>\n",
       "      <td>1746</td>\n",
       "      <td>N612SW</td>\n",
       "      <td>88.0</td>\n",
       "      <td>90</td>\n",
       "      <td>78.0</td>\n",
       "      <td>-6.0</td>\n",
       "      <td>-4.0</td>\n",
       "      <td>IND</td>\n",
       "      <td>BWI</td>\n",
       "      <td>515</td>\n",
       "      <td>3.0</td>\n",
       "      <td>7.0</td>\n",
       "      <td>0</td>\n",
       "      <td>0</td>\n",
       "      <td>0</td>\n",
       "      <td>0.0</td>\n",
       "      <td>0.0</td>\n",
       "      <td>0.0</td>\n",
       "      <td>0.0</td>\n",
       "      <td>0.0</td>\n",
       "    </tr>\n",
       "    <tr>\n",
       "      <th>4</th>\n",
       "      <td>2008</td>\n",
       "      <td>1</td>\n",
       "      <td>3</td>\n",
       "      <td>4</td>\n",
       "      <td>18:29:00</td>\n",
       "      <td>17:55:00</td>\n",
       "      <td>19:59:00</td>\n",
       "      <td>19:25:00</td>\n",
       "      <td>WN</td>\n",
       "      <td>3920</td>\n",
       "      <td>N464WN</td>\n",
       "      <td>90.0</td>\n",
       "      <td>90</td>\n",
       "      <td>77.0</td>\n",
       "      <td>34.0</td>\n",
       "      <td>34.0</td>\n",
       "      <td>IND</td>\n",
       "      <td>BWI</td>\n",
       "      <td>515</td>\n",
       "      <td>3.0</td>\n",
       "      <td>10.0</td>\n",
       "      <td>0</td>\n",
       "      <td>0</td>\n",
       "      <td>0</td>\n",
       "      <td>2.0</td>\n",
       "      <td>0.0</td>\n",
       "      <td>0.0</td>\n",
       "      <td>0.0</td>\n",
       "      <td>32.0</td>\n",
       "    </tr>\n",
       "  </tbody>\n",
       "</table>\n",
       "</div>"
      ],
      "text/plain": [
       "   Year  Month  DayofMonth  DayOfWeek  DepTime CRSDepTime  ArrTime CRSArrTime  \\\n",
       "0  2008      1           3          4 20:03:00   19:55:00 22:11:00   22:25:00   \n",
       "1  2008      1           3          4 07:54:00   07:35:00 10:02:00   10:00:00   \n",
       "2  2008      1           3          4 06:28:00   06:20:00 08:04:00   07:50:00   \n",
       "3  2008      1           3          4 09:26:00   09:30:00 10:54:00   11:00:00   \n",
       "4  2008      1           3          4 18:29:00   17:55:00 19:59:00   19:25:00   \n",
       "\n",
       "  UniqueCarrier  FlightNum TailNum  ActualElapsedTime  CRSElapsedTime  \\\n",
       "0            WN        335  N712SW              128.0             150   \n",
       "1            WN       3231  N772SW              128.0             145   \n",
       "2            WN        448  N428WN               96.0              90   \n",
       "3            WN       1746  N612SW               88.0              90   \n",
       "4            WN       3920  N464WN               90.0              90   \n",
       "\n",
       "   AirTime  ArrDelay  DepDelay Origin Dest  Distance  TaxiIn  TaxiOut  \\\n",
       "0    116.0     -14.0       8.0    IAD  TPA       810     4.0      8.0   \n",
       "1    113.0       2.0      19.0    IAD  TPA       810     5.0     10.0   \n",
       "2     76.0      14.0       8.0    IND  BWI       515     3.0     17.0   \n",
       "3     78.0      -6.0      -4.0    IND  BWI       515     3.0      7.0   \n",
       "4     77.0      34.0      34.0    IND  BWI       515     3.0     10.0   \n",
       "\n",
       "   Cancelled  CancellationCode  Diverted  CarrierDelay  WeatherDelay  \\\n",
       "0          0                 0         0           0.0           0.0   \n",
       "1          0                 0         0           0.0           0.0   \n",
       "2          0                 0         0           0.0           0.0   \n",
       "3          0                 0         0           0.0           0.0   \n",
       "4          0                 0         0           2.0           0.0   \n",
       "\n",
       "   NASDelay  SecurityDelay  LateAircraftDelay  \n",
       "0       0.0            0.0                0.0  \n",
       "1       0.0            0.0                0.0  \n",
       "2       0.0            0.0                0.0  \n",
       "3       0.0            0.0                0.0  \n",
       "4       0.0            0.0               32.0  "
      ]
     },
     "execution_count": 12,
     "metadata": {},
     "output_type": "execute_result"
    }
   ],
   "source": [
    "# Using the above function, transforming the time columns into their correct format\n",
    "transform_time_column(den,'DepTime')\n",
    "transform_time_column(den,'CRSDepTime')\n",
    "transform_time_column(den,'ArrTime')\n",
    "transform_time_column(den,'CRSArrTime')\n",
    "den.head()"
   ]
  },
  {
   "cell_type": "code",
   "execution_count": 13,
   "metadata": {},
   "outputs": [
    {
     "name": "stdout",
     "output_type": "stream",
     "text": [
      "<class 'pandas.core.frame.DataFrame'>\n",
      "Int64Index: 291075 entries, 0 to 299998\n",
      "Data columns (total 29 columns):\n",
      " #   Column             Non-Null Count   Dtype          \n",
      "---  ------             --------------   -----          \n",
      " 0   Year               291075 non-null  int64          \n",
      " 1   Month              291075 non-null  int64          \n",
      " 2   DayofMonth         291075 non-null  int64          \n",
      " 3   DayOfWeek          291075 non-null  int64          \n",
      " 4   DepTime            290556 non-null  timedelta64[ns]\n",
      " 5   CRSDepTime         291075 non-null  timedelta64[ns]\n",
      " 6   ArrTime            287296 non-null  timedelta64[ns]\n",
      " 7   CRSArrTime         288779 non-null  timedelta64[ns]\n",
      " 8   UniqueCarrier      291075 non-null  object         \n",
      " 9   FlightNum          291075 non-null  int64          \n",
      " 10  TailNum            291075 non-null  object         \n",
      " 11  ActualElapsedTime  291075 non-null  float64        \n",
      " 12  CRSElapsedTime     291075 non-null  int64          \n",
      " 13  AirTime            291075 non-null  float64        \n",
      " 14  ArrDelay           291075 non-null  float64        \n",
      " 15  DepDelay           291075 non-null  float64        \n",
      " 16  Origin             291075 non-null  object         \n",
      " 17  Dest               291075 non-null  object         \n",
      " 18  Distance           291075 non-null  int64          \n",
      " 19  TaxiIn             291075 non-null  float64        \n",
      " 20  TaxiOut            291075 non-null  float64        \n",
      " 21  Cancelled          291075 non-null  int64          \n",
      " 22  CancellationCode   291075 non-null  int64          \n",
      " 23  Diverted           291075 non-null  int64          \n",
      " 24  CarrierDelay       291075 non-null  float64        \n",
      " 25  WeatherDelay       291075 non-null  float64        \n",
      " 26  NASDelay           291075 non-null  float64        \n",
      " 27  SecurityDelay      291075 non-null  float64        \n",
      " 28  LateAircraftDelay  291075 non-null  float64        \n",
      "dtypes: float64(11), int64(10), object(4), timedelta64[ns](4)\n",
      "memory usage: 66.6+ MB\n"
     ]
    }
   ],
   "source": [
    "# Check the datatype and null entry in the dataset\n",
    "den.info()"
   ]
  },
  {
   "cell_type": "markdown",
   "metadata": {},
   "source": [
    "### Input independent variables and output dependent variable"
   ]
  },
  {
   "cell_type": "markdown",
   "metadata": {},
   "source": [
    "`Variable descriptions\n",
    "Name Description\n",
    "1 Year 1987-2008\n",
    "2 Month 1-12\n",
    "3 DayofMonth 1-31\n",
    "4 DayOfWeek 1 (Monday) - 7 (Sunday)\n",
    "5 DepTime actual departure time (local, hhmm)\n",
    "6 CRSDepTime scheduled departure time (local, hhmm)\n",
    "7 ArrTime actual arrival time (local, hhmm)\n",
    "8 CRSArrTime scheduled arrival time (local, hhmm)\n",
    "9 UniqueCarrier unique carrier code\n",
    "10 FlightNum flight number\n",
    "11 TailNum plane tail number\n",
    "12 ActualElapsedTime in minutes\n",
    "13 CRSElapsedTime in minutes\n",
    "14 AirTime in minutes\n",
    "15 ArrDelay arrival delay, in minutes\n",
    "16 DepDelay departure delay, in minutes\n",
    "17 Origin origin IATA airport code\n",
    "18 Dest destination IATA airport code\n",
    "19 Distance in miles\n",
    "20 TaxiIn taxi in time, in minutes\n",
    "21 TaxiOut taxi out time in minutes\n",
    "22 Cancelled was the flight cancelled?\n",
    "23 CancellationCode reason for cancellation (A = carrier, B = weather, C = NAS, D = security)\n",
    "24 Diverted 1 = yes, 0 = no\n",
    "25 CarrierDelay in minutes\n",
    "26 WeatherDelay in minutes\n",
    "27 NASDelay in minutes\n",
    "28 SecurityDelay in minutes\n",
    "29 LateAircraftDelay in minutes`"
   ]
  },
  {
   "cell_type": "code",
   "execution_count": 14,
   "metadata": {},
   "outputs": [
    {
     "data": {
      "text/html": [
       "<div>\n",
       "<style scoped>\n",
       "    .dataframe tbody tr th:only-of-type {\n",
       "        vertical-align: middle;\n",
       "    }\n",
       "\n",
       "    .dataframe tbody tr th {\n",
       "        vertical-align: top;\n",
       "    }\n",
       "\n",
       "    .dataframe thead tr th {\n",
       "        text-align: left;\n",
       "    }\n",
       "\n",
       "    .dataframe thead tr:last-of-type th {\n",
       "        text-align: right;\n",
       "    }\n",
       "</style>\n",
       "<table border=\"1\" class=\"dataframe\">\n",
       "  <thead>\n",
       "    <tr>\n",
       "      <th></th>\n",
       "      <th>total_delays</th>\n",
       "    </tr>\n",
       "    <tr>\n",
       "      <th></th>\n",
       "      <th>mean</th>\n",
       "    </tr>\n",
       "    <tr>\n",
       "      <th>DayOfWeek</th>\n",
       "      <th></th>\n",
       "    </tr>\n",
       "  </thead>\n",
       "  <tbody>\n",
       "    <tr>\n",
       "      <th>1</th>\n",
       "      <td>41.851920</td>\n",
       "    </tr>\n",
       "    <tr>\n",
       "      <th>2</th>\n",
       "      <td>36.113787</td>\n",
       "    </tr>\n",
       "    <tr>\n",
       "      <th>3</th>\n",
       "      <td>25.769113</td>\n",
       "    </tr>\n",
       "    <tr>\n",
       "      <th>4</th>\n",
       "      <td>48.822087</td>\n",
       "    </tr>\n",
       "    <tr>\n",
       "      <th>5</th>\n",
       "      <td>38.077967</td>\n",
       "    </tr>\n",
       "    <tr>\n",
       "      <th>6</th>\n",
       "      <td>27.708723</td>\n",
       "    </tr>\n",
       "    <tr>\n",
       "      <th>7</th>\n",
       "      <td>40.871012</td>\n",
       "    </tr>\n",
       "  </tbody>\n",
       "</table>\n",
       "</div>"
      ],
      "text/plain": [
       "          total_delays\n",
       "                  mean\n",
       "DayOfWeek             \n",
       "1            41.851920\n",
       "2            36.113787\n",
       "3            25.769113\n",
       "4            48.822087\n",
       "5            38.077967\n",
       "6            27.708723\n",
       "7            40.871012"
      ]
     },
     "execution_count": 14,
     "metadata": {},
     "output_type": "execute_result"
    }
   ],
   "source": [
    "# Calculating Total Delays by summing up all the Delay Columns\n",
    "den['total_delays'] = den['ArrDelay'] + den['DepDelay'] + den['CarrierDelay'] + den['WeatherDelay'] + den['NASDelay'] + den['SecurityDelay'] + den['LateAircraftDelay']\n",
    "# Finding the mean of total delays for each day of the week\n",
    "den.groupby([\"DayOfWeek\"]).agg({'total_delays': [np.mean]})"
   ]
  },
  {
   "cell_type": "markdown",
   "metadata": {},
   "source": [
    "*We are interested in Arrival delays. Hence finding mean arrival delays for each day of the week*"
   ]
  },
  {
   "cell_type": "code",
   "execution_count": 15,
   "metadata": {},
   "outputs": [
    {
     "data": {
      "text/html": [
       "<div>\n",
       "<style scoped>\n",
       "    .dataframe tbody tr th:only-of-type {\n",
       "        vertical-align: middle;\n",
       "    }\n",
       "\n",
       "    .dataframe tbody tr th {\n",
       "        vertical-align: top;\n",
       "    }\n",
       "\n",
       "    .dataframe thead th {\n",
       "        text-align: right;\n",
       "    }\n",
       "</style>\n",
       "<table border=\"1\" class=\"dataframe\">\n",
       "  <thead>\n",
       "    <tr style=\"text-align: right;\">\n",
       "      <th></th>\n",
       "      <th>DayOfWeek</th>\n",
       "      <th>ArrDelay</th>\n",
       "    </tr>\n",
       "  </thead>\n",
       "  <tbody>\n",
       "    <tr>\n",
       "      <th>0</th>\n",
       "      <td>1</td>\n",
       "      <td>11.898271</td>\n",
       "    </tr>\n",
       "    <tr>\n",
       "      <th>1</th>\n",
       "      <td>2</td>\n",
       "      <td>10.048745</td>\n",
       "    </tr>\n",
       "    <tr>\n",
       "      <th>2</th>\n",
       "      <td>3</td>\n",
       "      <td>6.061316</td>\n",
       "    </tr>\n",
       "    <tr>\n",
       "      <th>3</th>\n",
       "      <td>4</td>\n",
       "      <td>15.098165</td>\n",
       "    </tr>\n",
       "    <tr>\n",
       "      <th>4</th>\n",
       "      <td>5</td>\n",
       "      <td>10.895985</td>\n",
       "    </tr>\n",
       "    <tr>\n",
       "      <th>5</th>\n",
       "      <td>6</td>\n",
       "      <td>6.230296</td>\n",
       "    </tr>\n",
       "    <tr>\n",
       "      <th>6</th>\n",
       "      <td>7</td>\n",
       "      <td>11.320227</td>\n",
       "    </tr>\n",
       "  </tbody>\n",
       "</table>\n",
       "</div>"
      ],
      "text/plain": [
       "   DayOfWeek   ArrDelay\n",
       "0          1  11.898271\n",
       "1          2  10.048745\n",
       "2          3   6.061316\n",
       "3          4  15.098165\n",
       "4          5  10.895985\n",
       "5          6   6.230296\n",
       "6          7  11.320227"
      ]
     },
     "execution_count": 15,
     "metadata": {},
     "output_type": "execute_result"
    }
   ],
   "source": [
    "# Finding the mean of Arrival delays for each day of the week\n",
    "mean_week_arr = den.groupby([\"DayOfWeek\"], as_index=False).agg({'ArrDelay': [np.mean]})\n",
    "# Dropping the unnecessary column header created by the agg function above\n",
    "mean_week_arr.columns = mean_week_arr.columns.droplevel(1)\n",
    "mean_week_arr"
   ]
  },
  {
   "cell_type": "code",
   "execution_count": 16,
   "metadata": {},
   "outputs": [
    {
     "data": {
      "image/png": "[encoded data removed]",
      "text/plain": [
       "<Figure size 720x432 with 1 Axes>"
      ]
     },
     "metadata": {
      "needs_background": "light"
     },
     "output_type": "display_data"
    }
   ],
   "source": [
    "fig = plt.figure(figsize=(10,6))\n",
    "# Plotting the Average ArrDelay values as y-axis and Day of the week as x-axis and connecting them with a line in the graph.\n",
    "plt.plot('DayOfWeek', 'ArrDelay', data=mean_week_arr, linestyle='-', marker='o')\n",
    "plt.title('Average Arrival Delay based on each day of the week')\n",
    "plt.xlabel('Day of the Week')\n",
    "plt.ylabel('Average Arrival Delay')\n",
    "# Changing the x-axis values from 1,2,.. to Monday, Tuesday,..\n",
    "plt.xticks((1,2,3,4,5,6,7), ('Monday', 'Tuesday', 'Wednesday', 'Thursday', 'Friday', 'Saturday', 'Sunday'), rotation=45)\n",
    "plt.show()"
   ]
  },
  {
   "cell_type": "markdown",
   "metadata": {},
   "source": [
    "`Delay seems to be the highest during Thursdays followed by Mondays and Sundays.`"
   ]
  },
  {
   "cell_type": "code",
   "execution_count": 17,
   "metadata": {},
   "outputs": [
    {
     "data": {
      "text/html": [
       "<div>\n",
       "<style scoped>\n",
       "    .dataframe tbody tr th:only-of-type {\n",
       "        vertical-align: middle;\n",
       "    }\n",
       "\n",
       "    .dataframe tbody tr th {\n",
       "        vertical-align: top;\n",
       "    }\n",
       "\n",
       "    .dataframe thead th {\n",
       "        text-align: right;\n",
       "    }\n",
       "</style>\n",
       "<table border=\"1\" class=\"dataframe\">\n",
       "  <thead>\n",
       "    <tr style=\"text-align: right;\">\n",
       "      <th></th>\n",
       "      <th>DayOfWeek</th>\n",
       "      <th>NumberOfFlights</th>\n",
       "    </tr>\n",
       "  </thead>\n",
       "  <tbody>\n",
       "    <tr>\n",
       "      <th>0</th>\n",
       "      <td>1</td>\n",
       "      <td>39222</td>\n",
       "    </tr>\n",
       "    <tr>\n",
       "      <th>1</th>\n",
       "      <td>2</td>\n",
       "      <td>46877</td>\n",
       "    </tr>\n",
       "    <tr>\n",
       "      <th>2</th>\n",
       "      <td>3</td>\n",
       "      <td>47508</td>\n",
       "    </tr>\n",
       "    <tr>\n",
       "      <th>3</th>\n",
       "      <td>4</td>\n",
       "      <td>48816</td>\n",
       "    </tr>\n",
       "    <tr>\n",
       "      <th>4</th>\n",
       "      <td>5</td>\n",
       "      <td>40004</td>\n",
       "    </tr>\n",
       "    <tr>\n",
       "      <th>5</th>\n",
       "      <td>6</td>\n",
       "      <td>31846</td>\n",
       "    </tr>\n",
       "    <tr>\n",
       "      <th>6</th>\n",
       "      <td>7</td>\n",
       "      <td>36802</td>\n",
       "    </tr>\n",
       "  </tbody>\n",
       "</table>\n",
       "</div>"
      ],
      "text/plain": [
       "   DayOfWeek  NumberOfFlights\n",
       "0          1            39222\n",
       "1          2            46877\n",
       "2          3            47508\n",
       "3          4            48816\n",
       "4          5            40004\n",
       "5          6            31846\n",
       "6          7            36802"
      ]
     },
     "execution_count": 17,
     "metadata": {},
     "output_type": "execute_result"
    }
   ],
   "source": [
    "# Finding number of flights on each day of the week\n",
    "flight_week_count = den.groupby([\"DayOfWeek\"], as_index=False).size().to_frame(name = 'NumberOfFlights').reset_index()\n",
    "flight_week_count"
   ]
  },
  {
   "cell_type": "code",
   "execution_count": 18,
   "metadata": {},
   "outputs": [
    {
     "data": {
      "image/png": "[encoded data removed]",
      "text/plain": [
       "<Figure size 432x288 with 1 Axes>"
      ]
     },
     "metadata": {
      "needs_background": "light"
     },
     "output_type": "display_data"
    }
   ],
   "source": [
    "# Plotting the Number of flights on each day of the week\n",
    "plt.bar(flight_week_count.DayOfWeek,flight_week_count.NumberOfFlights)\n",
    "# Changing the x-axis values from 1,2,.. to Monday, Tuesday,..\n",
    "plt.xticks((1,2,3,4,5,6,7), ('Monday', 'Tuesday', 'Wednesday', 'Thursday', 'Friday', 'Saturday', 'Sunday'), rotation=45)\n",
    "plt.title('Number of flights based on each day of the week')\n",
    "plt.xlabel('Day of the Week')\n",
    "plt.ylabel('Count')\n",
    "plt.show()"
   ]
  },
  {
   "cell_type": "markdown",
   "metadata": {},
   "source": [
    "*It is understandable that the Arrival Delays is more on Thursday since it has the maximum number of flights fly on that day. But Suprisingly inspite of the large number of flights, Arrival Delay seems to be less on Wednesdays.*\n",
    "\n",
    "`In my case, the delay seems to be on Wednesdays and Saturdays.`"
   ]
  },
  {
   "cell_type": "markdown",
   "metadata": {},
   "source": [
    "## Exploratory Data Analysis"
   ]
  },
  {
   "cell_type": "code",
   "execution_count": 19,
   "metadata": {},
   "outputs": [
    {
     "data": {
      "text/plain": [
       "Year                           int64\n",
       "Month                          int64\n",
       "DayofMonth                     int64\n",
       "DayOfWeek                      int64\n",
       "DepTime              timedelta64[ns]\n",
       "CRSDepTime           timedelta64[ns]\n",
       "ArrTime              timedelta64[ns]\n",
       "CRSArrTime           timedelta64[ns]\n",
       "UniqueCarrier                 object\n",
       "FlightNum                      int64\n",
       "TailNum                       object\n",
       "ActualElapsedTime            float64\n",
       "CRSElapsedTime                 int64\n",
       "AirTime                      float64\n",
       "ArrDelay                     float64\n",
       "DepDelay                     float64\n",
       "Origin                        object\n",
       "Dest                          object\n",
       "Distance                       int64\n",
       "TaxiIn                       float64\n",
       "TaxiOut                      float64\n",
       "Cancelled                      int64\n",
       "CancellationCode               int64\n",
       "Diverted                       int64\n",
       "CarrierDelay                 float64\n",
       "WeatherDelay                 float64\n",
       "NASDelay                     float64\n",
       "SecurityDelay                float64\n",
       "LateAircraftDelay            float64\n",
       "total_delays                 float64\n",
       "dtype: object"
      ]
     },
     "execution_count": 19,
     "metadata": {},
     "output_type": "execute_result"
    }
   ],
   "source": [
    "# Understanding the datatypes of all the variables in the dataset\n",
    "den.dtypes"
   ]
  },
  {
   "cell_type": "code",
   "execution_count": 20,
   "metadata": {},
   "outputs": [],
   "source": [
    "# Changing the necessary variables as Categorical Variables.\n",
    "den[\"Cancelled\"] = den[\"Cancelled\"].astype('category')\n",
    "den[\"Diverted\"] = den[\"Diverted\"].astype('category')\n",
    "den[\"UniqueCarrier\"] = den[\"UniqueCarrier\"].astype('category')"
   ]
  },
  {
   "cell_type": "code",
   "execution_count": 21,
   "metadata": {},
   "outputs": [
    {
     "data": {
      "text/html": [
       "<div>\n",
       "<style scoped>\n",
       "    .dataframe tbody tr th:only-of-type {\n",
       "        vertical-align: middle;\n",
       "    }\n",
       "\n",
       "    .dataframe tbody tr th {\n",
       "        vertical-align: top;\n",
       "    }\n",
       "\n",
       "    .dataframe thead th {\n",
       "        text-align: right;\n",
       "    }\n",
       "</style>\n",
       "<table border=\"1\" class=\"dataframe\">\n",
       "  <thead>\n",
       "    <tr style=\"text-align: right;\">\n",
       "      <th></th>\n",
       "      <th>UniqueCarrier</th>\n",
       "      <th>TailNum</th>\n",
       "      <th>Origin</th>\n",
       "      <th>Dest</th>\n",
       "      <th>Cancelled</th>\n",
       "      <th>Diverted</th>\n",
       "    </tr>\n",
       "  </thead>\n",
       "  <tbody>\n",
       "    <tr>\n",
       "      <th>count</th>\n",
       "      <td>291075</td>\n",
       "      <td>291075</td>\n",
       "      <td>291075</td>\n",
       "      <td>291075</td>\n",
       "      <td>291075</td>\n",
       "      <td>291075</td>\n",
       "    </tr>\n",
       "    <tr>\n",
       "      <th>unique</th>\n",
       "      <td>7</td>\n",
       "      <td>2103</td>\n",
       "      <td>217</td>\n",
       "      <td>216</td>\n",
       "      <td>1</td>\n",
       "      <td>1</td>\n",
       "    </tr>\n",
       "    <tr>\n",
       "      <th>top</th>\n",
       "      <td>WN</td>\n",
       "      <td>N693BR</td>\n",
       "      <td>PHX</td>\n",
       "      <td>PHX</td>\n",
       "      <td>0</td>\n",
       "      <td>0</td>\n",
       "    </tr>\n",
       "    <tr>\n",
       "      <th>freq</th>\n",
       "      <td>97375</td>\n",
       "      <td>359</td>\n",
       "      <td>14928</td>\n",
       "      <td>14925</td>\n",
       "      <td>291075</td>\n",
       "      <td>291075</td>\n",
       "    </tr>\n",
       "  </tbody>\n",
       "</table>\n",
       "</div>"
      ],
      "text/plain": [
       "       UniqueCarrier TailNum  Origin    Dest  Cancelled  Diverted\n",
       "count         291075  291075  291075  291075     291075    291075\n",
       "unique             7    2103     217     216          1         1\n",
       "top               WN  N693BR     PHX     PHX          0         0\n",
       "freq           97375     359   14928   14925     291075    291075"
      ]
     },
     "execution_count": 21,
     "metadata": {},
     "output_type": "execute_result"
    }
   ],
   "source": [
    "# Checking the summary statistics of Categorical/Object variables\n",
    "den.select_dtypes(exclude='number').describe()"
   ]
  },
  {
   "cell_type": "code",
   "execution_count": 22,
   "metadata": {},
   "outputs": [
    {
     "data": {
      "text/html": [
       "<div>\n",
       "<style scoped>\n",
       "    .dataframe tbody tr th:only-of-type {\n",
       "        vertical-align: middle;\n",
       "    }\n",
       "\n",
       "    .dataframe tbody tr th {\n",
       "        vertical-align: top;\n",
       "    }\n",
       "\n",
       "    .dataframe thead th {\n",
       "        text-align: right;\n",
       "    }\n",
       "</style>\n",
       "<table border=\"1\" class=\"dataframe\">\n",
       "  <thead>\n",
       "    <tr style=\"text-align: right;\">\n",
       "      <th></th>\n",
       "      <th>Year</th>\n",
       "      <th>Month</th>\n",
       "      <th>DayofMonth</th>\n",
       "      <th>DayOfWeek</th>\n",
       "      <th>ActualElapsedTime</th>\n",
       "      <th>CRSElapsedTime</th>\n",
       "      <th>AirTime</th>\n",
       "      <th>DepDelay</th>\n",
       "      <th>Distance</th>\n",
       "      <th>TaxiIn</th>\n",
       "      <th>TaxiOut</th>\n",
       "      <th>CarrierDelay</th>\n",
       "      <th>WeatherDelay</th>\n",
       "      <th>NASDelay</th>\n",
       "      <th>SecurityDelay</th>\n",
       "      <th>LateAircraftDelay</th>\n",
       "      <th>ArrDelay</th>\n",
       "    </tr>\n",
       "  </thead>\n",
       "  <tbody>\n",
       "    <tr>\n",
       "      <th>count</th>\n",
       "      <td>291075.0</td>\n",
       "      <td>291075.0</td>\n",
       "      <td>291075.000000</td>\n",
       "      <td>291075.000000</td>\n",
       "      <td>291075.000000</td>\n",
       "      <td>291075.000000</td>\n",
       "      <td>291075.000000</td>\n",
       "      <td>291075.000000</td>\n",
       "      <td>291075.000000</td>\n",
       "      <td>291075.000000</td>\n",
       "      <td>291075.000000</td>\n",
       "      <td>291075.000000</td>\n",
       "      <td>291075.000000</td>\n",
       "      <td>291075.000000</td>\n",
       "      <td>291075.000000</td>\n",
       "      <td>291075.000000</td>\n",
       "      <td>291075.000000</td>\n",
       "    </tr>\n",
       "    <tr>\n",
       "      <th>mean</th>\n",
       "      <td>2008.0</td>\n",
       "      <td>1.0</td>\n",
       "      <td>16.095364</td>\n",
       "      <td>3.845998</td>\n",
       "      <td>117.942877</td>\n",
       "      <td>119.945100</td>\n",
       "      <td>96.153153</td>\n",
       "      <td>12.355644</td>\n",
       "      <td>653.442845</td>\n",
       "      <td>6.046507</td>\n",
       "      <td>15.743217</td>\n",
       "      <td>3.893364</td>\n",
       "      <td>0.792473</td>\n",
       "      <td>3.808524</td>\n",
       "      <td>0.027677</td>\n",
       "      <td>6.050623</td>\n",
       "      <td>10.353421</td>\n",
       "    </tr>\n",
       "    <tr>\n",
       "      <th>std</th>\n",
       "      <td>0.0</td>\n",
       "      <td>0.0</td>\n",
       "      <td>8.885958</td>\n",
       "      <td>1.925986</td>\n",
       "      <td>64.342300</td>\n",
       "      <td>64.798113</td>\n",
       "      <td>62.270278</td>\n",
       "      <td>36.258600</td>\n",
       "      <td>513.689693</td>\n",
       "      <td>4.364426</td>\n",
       "      <td>10.383672</td>\n",
       "      <td>18.932330</td>\n",
       "      <td>9.857359</td>\n",
       "      <td>18.525641</td>\n",
       "      <td>0.947920</td>\n",
       "      <td>23.247397</td>\n",
       "      <td>39.726286</td>\n",
       "    </tr>\n",
       "    <tr>\n",
       "      <th>min</th>\n",
       "      <td>2008.0</td>\n",
       "      <td>1.0</td>\n",
       "      <td>1.000000</td>\n",
       "      <td>1.000000</td>\n",
       "      <td>16.000000</td>\n",
       "      <td>18.000000</td>\n",
       "      <td>0.000000</td>\n",
       "      <td>-92.000000</td>\n",
       "      <td>24.000000</td>\n",
       "      <td>0.000000</td>\n",
       "      <td>0.000000</td>\n",
       "      <td>0.000000</td>\n",
       "      <td>0.000000</td>\n",
       "      <td>0.000000</td>\n",
       "      <td>0.000000</td>\n",
       "      <td>0.000000</td>\n",
       "      <td>-91.000000</td>\n",
       "    </tr>\n",
       "    <tr>\n",
       "      <th>25%</th>\n",
       "      <td>2008.0</td>\n",
       "      <td>1.0</td>\n",
       "      <td>8.000000</td>\n",
       "      <td>2.000000</td>\n",
       "      <td>73.000000</td>\n",
       "      <td>75.000000</td>\n",
       "      <td>53.000000</td>\n",
       "      <td>-4.000000</td>\n",
       "      <td>308.000000</td>\n",
       "      <td>4.000000</td>\n",
       "      <td>9.000000</td>\n",
       "      <td>0.000000</td>\n",
       "      <td>0.000000</td>\n",
       "      <td>0.000000</td>\n",
       "      <td>0.000000</td>\n",
       "      <td>0.000000</td>\n",
       "      <td>-10.000000</td>\n",
       "    </tr>\n",
       "    <tr>\n",
       "      <th>50%</th>\n",
       "      <td>2008.0</td>\n",
       "      <td>1.0</td>\n",
       "      <td>16.000000</td>\n",
       "      <td>4.000000</td>\n",
       "      <td>100.000000</td>\n",
       "      <td>101.000000</td>\n",
       "      <td>78.000000</td>\n",
       "      <td>0.000000</td>\n",
       "      <td>495.000000</td>\n",
       "      <td>5.000000</td>\n",
       "      <td>13.000000</td>\n",
       "      <td>0.000000</td>\n",
       "      <td>0.000000</td>\n",
       "      <td>0.000000</td>\n",
       "      <td>0.000000</td>\n",
       "      <td>0.000000</td>\n",
       "      <td>-1.000000</td>\n",
       "    </tr>\n",
       "    <tr>\n",
       "      <th>75%</th>\n",
       "      <td>2008.0</td>\n",
       "      <td>1.0</td>\n",
       "      <td>24.000000</td>\n",
       "      <td>5.000000</td>\n",
       "      <td>143.000000</td>\n",
       "      <td>145.000000</td>\n",
       "      <td>119.000000</td>\n",
       "      <td>11.000000</td>\n",
       "      <td>843.000000</td>\n",
       "      <td>7.000000</td>\n",
       "      <td>19.000000</td>\n",
       "      <td>0.000000</td>\n",
       "      <td>0.000000</td>\n",
       "      <td>0.000000</td>\n",
       "      <td>0.000000</td>\n",
       "      <td>0.000000</td>\n",
       "      <td>15.000000</td>\n",
       "    </tr>\n",
       "    <tr>\n",
       "      <th>max</th>\n",
       "      <td>2008.0</td>\n",
       "      <td>1.0</td>\n",
       "      <td>31.000000</td>\n",
       "      <td>7.000000</td>\n",
       "      <td>571.000000</td>\n",
       "      <td>556.000000</td>\n",
       "      <td>535.000000</td>\n",
       "      <td>1099.000000</td>\n",
       "      <td>4243.000000</td>\n",
       "      <td>213.000000</td>\n",
       "      <td>221.000000</td>\n",
       "      <td>1032.000000</td>\n",
       "      <td>587.000000</td>\n",
       "      <td>569.000000</td>\n",
       "      <td>136.000000</td>\n",
       "      <td>799.000000</td>\n",
       "      <td>1081.000000</td>\n",
       "    </tr>\n",
       "  </tbody>\n",
       "</table>\n",
       "</div>"
      ],
      "text/plain": [
       "           Year     Month     DayofMonth      DayOfWeek  ActualElapsedTime  \\\n",
       "count  291075.0  291075.0  291075.000000  291075.000000      291075.000000   \n",
       "mean     2008.0       1.0      16.095364       3.845998         117.942877   \n",
       "std         0.0       0.0       8.885958       1.925986          64.342300   \n",
       "min      2008.0       1.0       1.000000       1.000000          16.000000   \n",
       "25%      2008.0       1.0       8.000000       2.000000          73.000000   \n",
       "50%      2008.0       1.0      16.000000       4.000000         100.000000   \n",
       "75%      2008.0       1.0      24.000000       5.000000         143.000000   \n",
       "max      2008.0       1.0      31.000000       7.000000         571.000000   \n",
       "\n",
       "       CRSElapsedTime        AirTime       DepDelay       Distance  \\\n",
       "count   291075.000000  291075.000000  291075.000000  291075.000000   \n",
       "mean       119.945100      96.153153      12.355644     653.442845   \n",
       "std         64.798113      62.270278      36.258600     513.689693   \n",
       "min         18.000000       0.000000     -92.000000      24.000000   \n",
       "25%         75.000000      53.000000      -4.000000     308.000000   \n",
       "50%        101.000000      78.000000       0.000000     495.000000   \n",
       "75%        145.000000     119.000000      11.000000     843.000000   \n",
       "max        556.000000     535.000000    1099.000000    4243.000000   \n",
       "\n",
       "              TaxiIn        TaxiOut   CarrierDelay   WeatherDelay  \\\n",
       "count  291075.000000  291075.000000  291075.000000  291075.000000   \n",
       "mean        6.046507      15.743217       3.893364       0.792473   \n",
       "std         4.364426      10.383672      18.932330       9.857359   \n",
       "min         0.000000       0.000000       0.000000       0.000000   \n",
       "25%         4.000000       9.000000       0.000000       0.000000   \n",
       "50%         5.000000      13.000000       0.000000       0.000000   \n",
       "75%         7.000000      19.000000       0.000000       0.000000   \n",
       "max       213.000000     221.000000    1032.000000     587.000000   \n",
       "\n",
       "            NASDelay  SecurityDelay  LateAircraftDelay       ArrDelay  \n",
       "count  291075.000000  291075.000000      291075.000000  291075.000000  \n",
       "mean        3.808524       0.027677           6.050623      10.353421  \n",
       "std        18.525641       0.947920          23.247397      39.726286  \n",
       "min         0.000000       0.000000           0.000000     -91.000000  \n",
       "25%         0.000000       0.000000           0.000000     -10.000000  \n",
       "50%         0.000000       0.000000           0.000000      -1.000000  \n",
       "75%         0.000000       0.000000           0.000000      15.000000  \n",
       "max       569.000000     136.000000         799.000000    1081.000000  "
      ]
     },
     "metadata": {},
     "output_type": "display_data"
    }
   ],
   "source": [
    "# Retaining only the variables we are interested to use in our model\n",
    "den = den[['Year', 'Month', 'DayofMonth', 'DayOfWeek', 'ActualElapsedTime', 'CRSElapsedTime', 'AirTime', 'UniqueCarrier', \n",
    "           'DepDelay', 'Distance', 'TaxiIn', 'TaxiOut', 'Cancelled', 'Diverted', 'CarrierDelay', 'WeatherDelay', 'NASDelay',\n",
    "           'SecurityDelay', 'LateAircraftDelay', 'ArrDelay']]\n",
    "display(pd.DataFrame(den.describe()))"
   ]
  },
  {
   "cell_type": "markdown",
   "metadata": {},
   "source": [
    "*Year, Month are constants with values at 2008 and 1 respectively. They don't add value to our model and can be removed.\n",
    "We can decide if we want to use ActualElapsedTime, CRSElapsedTime and AirTime based on the correlation we observe after removing outliers.\n",
    "The differnt delays have outliers. We need not remove them but we can just observe the number of records retained which will help us to see if Linear Regression model can be run in this data.*"
   ]
  },
  {
   "cell_type": "code",
   "execution_count": 23,
   "metadata": {},
   "outputs": [
    {
     "data": {
      "text/html": [
       "<div>\n",
       "<style scoped>\n",
       "    .dataframe tbody tr th:only-of-type {\n",
       "        vertical-align: middle;\n",
       "    }\n",
       "\n",
       "    .dataframe tbody tr th {\n",
       "        vertical-align: top;\n",
       "    }\n",
       "\n",
       "    .dataframe thead th {\n",
       "        text-align: right;\n",
       "    }\n",
       "</style>\n",
       "<table border=\"1\" class=\"dataframe\">\n",
       "  <thead>\n",
       "    <tr style=\"text-align: right;\">\n",
       "      <th></th>\n",
       "      <th>DayofMonth</th>\n",
       "      <th>DayOfWeek</th>\n",
       "      <th>AirTime</th>\n",
       "      <th>DepDelay</th>\n",
       "      <th>Distance</th>\n",
       "      <th>TaxiIn</th>\n",
       "      <th>TaxiOut</th>\n",
       "      <th>CarrierDelay</th>\n",
       "      <th>WeatherDelay</th>\n",
       "      <th>NASDelay</th>\n",
       "      <th>SecurityDelay</th>\n",
       "      <th>LateAircraftDelay</th>\n",
       "      <th>ArrDelay</th>\n",
       "    </tr>\n",
       "  </thead>\n",
       "  <tbody>\n",
       "    <tr>\n",
       "      <th>count</th>\n",
       "      <td>188158.000000</td>\n",
       "      <td>188158.000000</td>\n",
       "      <td>188158.000000</td>\n",
       "      <td>188158.000000</td>\n",
       "      <td>188158.000000</td>\n",
       "      <td>188158.000000</td>\n",
       "      <td>188158.000000</td>\n",
       "      <td>188158.0</td>\n",
       "      <td>188158.0</td>\n",
       "      <td>188158.0</td>\n",
       "      <td>188158.0</td>\n",
       "      <td>188158.0</td>\n",
       "      <td>188158.000000</td>\n",
       "    </tr>\n",
       "    <tr>\n",
       "      <th>mean</th>\n",
       "      <td>16.220320</td>\n",
       "      <td>3.827916</td>\n",
       "      <td>81.629195</td>\n",
       "      <td>-0.592816</td>\n",
       "      <td>540.341686</td>\n",
       "      <td>5.097179</td>\n",
       "      <td>13.376864</td>\n",
       "      <td>0.0</td>\n",
       "      <td>0.0</td>\n",
       "      <td>0.0</td>\n",
       "      <td>0.0</td>\n",
       "      <td>0.0</td>\n",
       "      <td>-5.697648</td>\n",
       "    </tr>\n",
       "    <tr>\n",
       "      <th>std</th>\n",
       "      <td>8.628366</td>\n",
       "      <td>1.925811</td>\n",
       "      <td>40.010270</td>\n",
       "      <td>6.901109</td>\n",
       "      <td>327.462175</td>\n",
       "      <td>2.131036</td>\n",
       "      <td>5.956393</td>\n",
       "      <td>0.0</td>\n",
       "      <td>0.0</td>\n",
       "      <td>0.0</td>\n",
       "      <td>0.0</td>\n",
       "      <td>0.0</td>\n",
       "      <td>10.014704</td>\n",
       "    </tr>\n",
       "    <tr>\n",
       "      <th>min</th>\n",
       "      <td>1.000000</td>\n",
       "      <td>1.000000</td>\n",
       "      <td>9.000000</td>\n",
       "      <td>-26.000000</td>\n",
       "      <td>36.000000</td>\n",
       "      <td>0.000000</td>\n",
       "      <td>0.000000</td>\n",
       "      <td>0.0</td>\n",
       "      <td>0.0</td>\n",
       "      <td>0.0</td>\n",
       "      <td>0.0</td>\n",
       "      <td>0.0</td>\n",
       "      <td>-47.000000</td>\n",
       "    </tr>\n",
       "    <tr>\n",
       "      <th>25%</th>\n",
       "      <td>9.000000</td>\n",
       "      <td>2.000000</td>\n",
       "      <td>51.000000</td>\n",
       "      <td>-5.000000</td>\n",
       "      <td>293.000000</td>\n",
       "      <td>4.000000</td>\n",
       "      <td>9.000000</td>\n",
       "      <td>0.0</td>\n",
       "      <td>0.0</td>\n",
       "      <td>0.0</td>\n",
       "      <td>0.0</td>\n",
       "      <td>0.0</td>\n",
       "      <td>-12.000000</td>\n",
       "    </tr>\n",
       "    <tr>\n",
       "      <th>50%</th>\n",
       "      <td>16.000000</td>\n",
       "      <td>4.000000</td>\n",
       "      <td>71.000000</td>\n",
       "      <td>-2.000000</td>\n",
       "      <td>448.000000</td>\n",
       "      <td>5.000000</td>\n",
       "      <td>12.000000</td>\n",
       "      <td>0.0</td>\n",
       "      <td>0.0</td>\n",
       "      <td>0.0</td>\n",
       "      <td>0.0</td>\n",
       "      <td>0.0</td>\n",
       "      <td>-5.000000</td>\n",
       "    </tr>\n",
       "    <tr>\n",
       "      <th>75%</th>\n",
       "      <td>24.000000</td>\n",
       "      <td>5.000000</td>\n",
       "      <td>106.000000</td>\n",
       "      <td>1.000000</td>\n",
       "      <td>737.000000</td>\n",
       "      <td>6.000000</td>\n",
       "      <td>16.000000</td>\n",
       "      <td>0.0</td>\n",
       "      <td>0.0</td>\n",
       "      <td>0.0</td>\n",
       "      <td>0.0</td>\n",
       "      <td>0.0</td>\n",
       "      <td>1.000000</td>\n",
       "    </tr>\n",
       "    <tr>\n",
       "      <th>max</th>\n",
       "      <td>31.000000</td>\n",
       "      <td>7.000000</td>\n",
       "      <td>218.000000</td>\n",
       "      <td>33.000000</td>\n",
       "      <td>1642.000000</td>\n",
       "      <td>11.000000</td>\n",
       "      <td>34.000000</td>\n",
       "      <td>0.0</td>\n",
       "      <td>0.0</td>\n",
       "      <td>0.0</td>\n",
       "      <td>0.0</td>\n",
       "      <td>0.0</td>\n",
       "      <td>14.000000</td>\n",
       "    </tr>\n",
       "  </tbody>\n",
       "</table>\n",
       "</div>"
      ],
      "text/plain": [
       "          DayofMonth      DayOfWeek        AirTime       DepDelay  \\\n",
       "count  188158.000000  188158.000000  188158.000000  188158.000000   \n",
       "mean       16.220320       3.827916      81.629195      -0.592816   \n",
       "std         8.628366       1.925811      40.010270       6.901109   \n",
       "min         1.000000       1.000000       9.000000     -26.000000   \n",
       "25%         9.000000       2.000000      51.000000      -5.000000   \n",
       "50%        16.000000       4.000000      71.000000      -2.000000   \n",
       "75%        24.000000       5.000000     106.000000       1.000000   \n",
       "max        31.000000       7.000000     218.000000      33.000000   \n",
       "\n",
       "            Distance         TaxiIn        TaxiOut  CarrierDelay  \\\n",
       "count  188158.000000  188158.000000  188158.000000      188158.0   \n",
       "mean      540.341686       5.097179      13.376864           0.0   \n",
       "std       327.462175       2.131036       5.956393           0.0   \n",
       "min        36.000000       0.000000       0.000000           0.0   \n",
       "25%       293.000000       4.000000       9.000000           0.0   \n",
       "50%       448.000000       5.000000      12.000000           0.0   \n",
       "75%       737.000000       6.000000      16.000000           0.0   \n",
       "max      1642.000000      11.000000      34.000000           0.0   \n",
       "\n",
       "       WeatherDelay  NASDelay  SecurityDelay  LateAircraftDelay       ArrDelay  \n",
       "count      188158.0  188158.0       188158.0           188158.0  188158.000000  \n",
       "mean            0.0       0.0            0.0                0.0      -5.697648  \n",
       "std             0.0       0.0            0.0                0.0      10.014704  \n",
       "min             0.0       0.0            0.0                0.0     -47.000000  \n",
       "25%             0.0       0.0            0.0                0.0     -12.000000  \n",
       "50%             0.0       0.0            0.0                0.0      -5.000000  \n",
       "75%             0.0       0.0            0.0                0.0       1.000000  \n",
       "max             0.0       0.0            0.0                0.0      14.000000  "
      ]
     },
     "metadata": {},
     "output_type": "display_data"
    }
   ],
   "source": [
    "df = den[['DayofMonth', 'DayOfWeek', 'AirTime', 'DepDelay', 'Distance', 'TaxiIn', 'TaxiOut', 'CarrierDelay', 'WeatherDelay',\n",
    "          'NASDelay', 'SecurityDelay', 'LateAircraftDelay', 'ArrDelay']]\n",
    "# Finding the quantile values for all the variables in the model\n",
    "Q1 = df.quantile(0.25)\n",
    "Q3 = df.quantile(0.75)\n",
    "IQR = Q3 - Q1\n",
    "\n",
    "# Removing the outliers\n",
    "df = df[((df >= (Q1 - 1.5 * IQR)) & (df <= (Q3 + 1.5 * IQR))).all(axis=1)]\n",
    "display(pd.DataFrame(df.describe()))"
   ]
  },
  {
   "cell_type": "code",
   "execution_count": 24,
   "metadata": {},
   "outputs": [
    {
     "data": {
      "image/png": "[encoded data removed]",
      "text/plain": [
       "<Figure size 432x288 with 2 Axes>"
      ]
     },
     "metadata": {
      "needs_background": "light"
     },
     "output_type": "display_data"
    }
   ],
   "source": [
    "# Find correlation matrix \n",
    "corr_table = den[['DayofMonth', 'DayOfWeek', 'ActualElapsedTime', 'CRSElapsedTime', 'AirTime', 'DepDelay', \n",
    "                  'Distance', 'UniqueCarrier', 'TaxiIn', 'TaxiOut', 'Cancelled', 'Diverted', 'CarrierDelay', 'WeatherDelay',\n",
    "                  'NASDelay', 'SecurityDelay', 'LateAircraftDelay', 'ArrDelay']].corr()\n",
    "ax = sns.heatmap(corr_table, \n",
    "            xticklabels=corr_table.columns,\n",
    "            yticklabels=corr_table.columns,\n",
    "            cmap=\"OrRd\")\n",
    "ax.set_title('Correlation Matrix of variables')\n",
    "plt.show()"
   ]
  },
  {
   "cell_type": "markdown",
   "metadata": {},
   "source": [
    "`There seems to be a very high correlation between the ActualElapsedTime, CRSElapsedTime, AirTime and Distance. Hence choosing only Distance as the independent variable among the above 4 variables. A strong correlation exists between DepDelay and ArrDelay. We can try removing and having DepDelay as independent variable in two different models.`"
   ]
  },
  {
   "cell_type": "code",
   "execution_count": 25,
   "metadata": {},
   "outputs": [],
   "source": [
    "# Choosing necessary variables for X & y of our model\n",
    "y = den['ArrDelay'].values\n",
    "X = den[['DayofMonth', 'DayOfWeek', 'DepDelay', 'Distance', 'UniqueCarrier', 'TaxiIn', 'TaxiOut', 'Cancelled', 'Diverted', \n",
    "         'CarrierDelay', 'WeatherDelay', 'NASDelay', 'SecurityDelay', 'LateAircraftDelay']]"
   ]
  },
  {
   "cell_type": "markdown",
   "metadata": {},
   "source": [
    "Since we are planning to have 'UniqueCarrier' we are using once hot encoding as RandomForestRegressor and RandomForestClassifier cannot handle multi-category explonatory variables."
   ]
  },
  {
   "cell_type": "code",
   "execution_count": 26,
   "metadata": {},
   "outputs": [
    {
     "data": {
      "text/plain": [
       "WN    97375\n",
       "OO    46247\n",
       "US    38513\n",
       "UA    36486\n",
       "XE    34368\n",
       "YV    20666\n",
       "OH    17420\n",
       "Name: UniqueCarrier, dtype: int64"
      ]
     },
     "execution_count": 26,
     "metadata": {},
     "output_type": "execute_result"
    }
   ],
   "source": [
    "# Finding the number of flights for each carrier\n",
    "den.UniqueCarrier.value_counts(dropna=False)"
   ]
  },
  {
   "cell_type": "code",
   "execution_count": 27,
   "metadata": {},
   "outputs": [
    {
     "data": {
      "text/html": [
       "<div>\n",
       "<style scoped>\n",
       "    .dataframe tbody tr th:only-of-type {\n",
       "        vertical-align: middle;\n",
       "    }\n",
       "\n",
       "    .dataframe tbody tr th {\n",
       "        vertical-align: top;\n",
       "    }\n",
       "\n",
       "    .dataframe thead th {\n",
       "        text-align: right;\n",
       "    }\n",
       "</style>\n",
       "<table border=\"1\" class=\"dataframe\">\n",
       "  <thead>\n",
       "    <tr style=\"text-align: right;\">\n",
       "      <th></th>\n",
       "      <th>DayofMonth</th>\n",
       "      <th>DayOfWeek</th>\n",
       "      <th>DepDelay</th>\n",
       "      <th>Distance</th>\n",
       "      <th>TaxiIn</th>\n",
       "      <th>TaxiOut</th>\n",
       "      <th>Cancelled</th>\n",
       "      <th>Diverted</th>\n",
       "      <th>CarrierDelay</th>\n",
       "      <th>WeatherDelay</th>\n",
       "      <th>NASDelay</th>\n",
       "      <th>SecurityDelay</th>\n",
       "      <th>LateAircraftDelay</th>\n",
       "      <th>UniqueCarrier_OH</th>\n",
       "      <th>UniqueCarrier_OO</th>\n",
       "      <th>UniqueCarrier_UA</th>\n",
       "      <th>UniqueCarrier_US</th>\n",
       "      <th>UniqueCarrier_WN</th>\n",
       "      <th>UniqueCarrier_XE</th>\n",
       "      <th>UniqueCarrier_YV</th>\n",
       "    </tr>\n",
       "  </thead>\n",
       "  <tbody>\n",
       "    <tr>\n",
       "      <th>0</th>\n",
       "      <td>3</td>\n",
       "      <td>4</td>\n",
       "      <td>8.0</td>\n",
       "      <td>810</td>\n",
       "      <td>4.0</td>\n",
       "      <td>8.0</td>\n",
       "      <td>0</td>\n",
       "      <td>0</td>\n",
       "      <td>0.0</td>\n",
       "      <td>0.0</td>\n",
       "      <td>0.0</td>\n",
       "      <td>0.0</td>\n",
       "      <td>0.0</td>\n",
       "      <td>0</td>\n",
       "      <td>0</td>\n",
       "      <td>0</td>\n",
       "      <td>0</td>\n",
       "      <td>1</td>\n",
       "      <td>0</td>\n",
       "      <td>0</td>\n",
       "    </tr>\n",
       "    <tr>\n",
       "      <th>1</th>\n",
       "      <td>3</td>\n",
       "      <td>4</td>\n",
       "      <td>19.0</td>\n",
       "      <td>810</td>\n",
       "      <td>5.0</td>\n",
       "      <td>10.0</td>\n",
       "      <td>0</td>\n",
       "      <td>0</td>\n",
       "      <td>0.0</td>\n",
       "      <td>0.0</td>\n",
       "      <td>0.0</td>\n",
       "      <td>0.0</td>\n",
       "      <td>0.0</td>\n",
       "      <td>0</td>\n",
       "      <td>0</td>\n",
       "      <td>0</td>\n",
       "      <td>0</td>\n",
       "      <td>1</td>\n",
       "      <td>0</td>\n",
       "      <td>0</td>\n",
       "    </tr>\n",
       "    <tr>\n",
       "      <th>2</th>\n",
       "      <td>3</td>\n",
       "      <td>4</td>\n",
       "      <td>8.0</td>\n",
       "      <td>515</td>\n",
       "      <td>3.0</td>\n",
       "      <td>17.0</td>\n",
       "      <td>0</td>\n",
       "      <td>0</td>\n",
       "      <td>0.0</td>\n",
       "      <td>0.0</td>\n",
       "      <td>0.0</td>\n",
       "      <td>0.0</td>\n",
       "      <td>0.0</td>\n",
       "      <td>0</td>\n",
       "      <td>0</td>\n",
       "      <td>0</td>\n",
       "      <td>0</td>\n",
       "      <td>1</td>\n",
       "      <td>0</td>\n",
       "      <td>0</td>\n",
       "    </tr>\n",
       "    <tr>\n",
       "      <th>3</th>\n",
       "      <td>3</td>\n",
       "      <td>4</td>\n",
       "      <td>-4.0</td>\n",
       "      <td>515</td>\n",
       "      <td>3.0</td>\n",
       "      <td>7.0</td>\n",
       "      <td>0</td>\n",
       "      <td>0</td>\n",
       "      <td>0.0</td>\n",
       "      <td>0.0</td>\n",
       "      <td>0.0</td>\n",
       "      <td>0.0</td>\n",
       "      <td>0.0</td>\n",
       "      <td>0</td>\n",
       "      <td>0</td>\n",
       "      <td>0</td>\n",
       "      <td>0</td>\n",
       "      <td>1</td>\n",
       "      <td>0</td>\n",
       "      <td>0</td>\n",
       "    </tr>\n",
       "    <tr>\n",
       "      <th>4</th>\n",
       "      <td>3</td>\n",
       "      <td>4</td>\n",
       "      <td>34.0</td>\n",
       "      <td>515</td>\n",
       "      <td>3.0</td>\n",
       "      <td>10.0</td>\n",
       "      <td>0</td>\n",
       "      <td>0</td>\n",
       "      <td>2.0</td>\n",
       "      <td>0.0</td>\n",
       "      <td>0.0</td>\n",
       "      <td>0.0</td>\n",
       "      <td>32.0</td>\n",
       "      <td>0</td>\n",
       "      <td>0</td>\n",
       "      <td>0</td>\n",
       "      <td>0</td>\n",
       "      <td>1</td>\n",
       "      <td>0</td>\n",
       "      <td>0</td>\n",
       "    </tr>\n",
       "  </tbody>\n",
       "</table>\n",
       "</div>"
      ],
      "text/plain": [
       "   DayofMonth  DayOfWeek  DepDelay  Distance  TaxiIn  TaxiOut Cancelled  \\\n",
       "0           3          4       8.0       810     4.0      8.0         0   \n",
       "1           3          4      19.0       810     5.0     10.0         0   \n",
       "2           3          4       8.0       515     3.0     17.0         0   \n",
       "3           3          4      -4.0       515     3.0      7.0         0   \n",
       "4           3          4      34.0       515     3.0     10.0         0   \n",
       "\n",
       "  Diverted  CarrierDelay  WeatherDelay  NASDelay  SecurityDelay  \\\n",
       "0        0           0.0           0.0       0.0            0.0   \n",
       "1        0           0.0           0.0       0.0            0.0   \n",
       "2        0           0.0           0.0       0.0            0.0   \n",
       "3        0           0.0           0.0       0.0            0.0   \n",
       "4        0           2.0           0.0       0.0            0.0   \n",
       "\n",
       "   LateAircraftDelay  UniqueCarrier_OH  UniqueCarrier_OO  UniqueCarrier_UA  \\\n",
       "0                0.0                 0                 0                 0   \n",
       "1                0.0                 0                 0                 0   \n",
       "2                0.0                 0                 0                 0   \n",
       "3                0.0                 0                 0                 0   \n",
       "4               32.0                 0                 0                 0   \n",
       "\n",
       "   UniqueCarrier_US  UniqueCarrier_WN  UniqueCarrier_XE  UniqueCarrier_YV  \n",
       "0                 0                 1                 0                 0  \n",
       "1                 0                 1                 0                 0  \n",
       "2                 0                 1                 0                 0  \n",
       "3                 0                 1                 0                 0  \n",
       "4                 0                 1                 0                 0  "
      ]
     },
     "execution_count": 27,
     "metadata": {},
     "output_type": "execute_result"
    }
   ],
   "source": [
    "# Implementing One-Hot Encoding\n",
    "X=pd.get_dummies(X, prefix=['UniqueCarrier'], columns=['UniqueCarrier'])\n",
    "X.head()"
   ]
  },
  {
   "cell_type": "code",
   "execution_count": 28,
   "metadata": {},
   "outputs": [
    {
     "name": "stdout",
     "output_type": "stream",
     "text": [
      "<class 'pandas.core.frame.DataFrame'>\n",
      "Int64Index: 291075 entries, 0 to 299998\n",
      "Data columns (total 20 columns):\n",
      " #   Column             Non-Null Count   Dtype   \n",
      "---  ------             --------------   -----   \n",
      " 0   DayofMonth         291075 non-null  int64   \n",
      " 1   DayOfWeek          291075 non-null  int64   \n",
      " 2   DepDelay           291075 non-null  float64 \n",
      " 3   Distance           291075 non-null  int64   \n",
      " 4   TaxiIn             291075 non-null  float64 \n",
      " 5   TaxiOut            291075 non-null  float64 \n",
      " 6   Cancelled          291075 non-null  category\n",
      " 7   Diverted           291075 non-null  category\n",
      " 8   CarrierDelay       291075 non-null  float64 \n",
      " 9   WeatherDelay       291075 non-null  float64 \n",
      " 10  NASDelay           291075 non-null  float64 \n",
      " 11  SecurityDelay      291075 non-null  float64 \n",
      " 12  LateAircraftDelay  291075 non-null  float64 \n",
      " 13  UniqueCarrier_OH   291075 non-null  uint8   \n",
      " 14  UniqueCarrier_OO   291075 non-null  uint8   \n",
      " 15  UniqueCarrier_UA   291075 non-null  uint8   \n",
      " 16  UniqueCarrier_US   291075 non-null  uint8   \n",
      " 17  UniqueCarrier_WN   291075 non-null  uint8   \n",
      " 18  UniqueCarrier_XE   291075 non-null  uint8   \n",
      " 19  UniqueCarrier_YV   291075 non-null  uint8   \n",
      "dtypes: category(2), float64(8), int64(3), uint8(7)\n",
      "memory usage: 39.1 MB\n"
     ]
    }
   ],
   "source": [
    "pd.DataFrame(X).info()"
   ]
  },
  {
   "cell_type": "markdown",
   "metadata": {},
   "source": [
    "*There is a new variable created for each of the 7 categories of UniqueCarrier. But using them all in the model will create multi collinearity. Hence we will remove one of the UniqueCarrier variable from our model as a regressor. Let's drop variable \"UniqueCarrier_YV\". We still won't lose any information, since if all the other 6 UniqueCarrier are 0, it means the UniqueCarrier of that record is YV.*"
   ]
  },
  {
   "cell_type": "code",
   "execution_count": 29,
   "metadata": {},
   "outputs": [],
   "source": [
    "X.drop(columns='UniqueCarrier_YV', inplace=True)"
   ]
  },
  {
   "cell_type": "code",
   "execution_count": 30,
   "metadata": {},
   "outputs": [],
   "source": [
    "# Split dataset into 70% train and 30% test\n",
    "X_train, X_test, y_train, y_test = train_test_split(X, y, test_size=0.3, random_state=SEED)"
   ]
  },
  {
   "cell_type": "markdown",
   "metadata": {},
   "source": [
    "## Random Forest"
   ]
  },
  {
   "cell_type": "code",
   "execution_count": 31,
   "metadata": {},
   "outputs": [],
   "source": [
    "def random_forest_regressor(Training_X, Test_X, n_estimators=10, min_samples_leaf=1): #passing default values of parameters of they aren't passed during call\n",
    "    # Instantiate a random forests regressor\n",
    "    rf = RandomForestRegressor(random_state=SEED, n_estimators=n_estimators,  min_samples_leaf=min_samples_leaf)\n",
    "    # Fit 'rf' to the training set\n",
    "    rf.fit(Training_X, y_train)\n",
    "    # Predict the test set labels 'y_pred'\n",
    "    y_pred = rf.predict(Test_X)\n",
    "    # Evaluate the test set RMSE\n",
    "    rmse_test = MSE(y_test, y_pred)**(1/2)\n",
    "    # Print the test set RMSE\n",
    "    print('Test set RMSE of Random Forest with n_estimators=',n_estimators,'and  min_samples_leaf=',min_samples_leaf,': {:.2f}'.format(rmse_test))\n",
    "    # Create a pd.Series of features importances and sort it\n",
    "    importances_rf = pd.Series(data=rf.feature_importances_, index = Training_X.columns)\n",
    "    importances_rf = importances_rf.sort_values(ascending=False)\n",
    "    # Make a horizontal bar plot\n",
    "    draw_importance_bar(importances_rf)"
   ]
  },
  {
   "cell_type": "code",
   "execution_count": 32,
   "metadata": {},
   "outputs": [],
   "source": [
    "# Function to draw graph of important variables\n",
    "def draw_importance_bar(importances_features):\n",
    "    fig = plt.figure(figsize=(10,6))\n",
    "    ax = importances_features.sort_values(ascending=True).plot.barh(color='red'\n",
    "                                                                    , title='Plot of Important Variables in the Random Forest')\n",
    "    for rect in ax.patches:\n",
    "        x_value = rect.get_width()\n",
    "        y_value = rect.get_y() + rect.get_height() / 2\n",
    "        plt.annotate(\"{:.3f}\".format(x_value), #Display 3 decimal digits of the value\n",
    "                     (x_value,y_value), # Place label at end of the bar\n",
    "                     xytext=(5, 0), # Horizontally shift label\n",
    "                     textcoords=\"offset points\", # Interpret `xytext` as offset in points\n",
    "                     va='center') # Vertically center label\n",
    "    plt.show()"
   ]
  },
  {
   "cell_type": "code",
   "execution_count": 33,
   "metadata": {},
   "outputs": [
    {
     "name": "stdout",
     "output_type": "stream",
     "text": [
      "Test set RMSE of Random Forest with n_estimators= 10 and  min_samples_leaf= 1 : 7.70\n"
     ]
    },
    {
     "data": {
      "image/png": "[encoded data removed]",
      "text/plain": [
       "<Figure size 720x432 with 1 Axes>"
      ]
     },
     "metadata": {
      "needs_background": "light"
     },
     "output_type": "display_data"
    }
   ],
   "source": [
    "# Running the random forests regressor with Default Parameters\n",
    "rf1 = random_forest_regressor(X_train, X_test)"
   ]
  },
  {
   "cell_type": "code",
   "execution_count": 34,
   "metadata": {},
   "outputs": [
    {
     "name": "stdout",
     "output_type": "stream",
     "text": [
      "Test set RMSE of Random Forest with n_estimators= 300 and  min_samples_leaf= 0.1 : 27.30\n"
     ]
    },
    {
     "data": {
      "image/png": "[encoded data removed]",
      "text/plain": [
       "<Figure size 720x432 with 1 Axes>"
      ]
     },
     "metadata": {
      "needs_background": "light"
     },
     "output_type": "display_data"
    },
    {
     "name": "stdout",
     "output_type": "stream",
     "text": [
      "CPU times: user 42.6 s, sys: 44.3 ms, total: 42.7 s\n",
      "Wall time: 42.7 s\n"
     ]
    }
   ],
   "source": [
    "%%time\n",
    "rf2 = random_forest_regressor(X_train, X_test, n_estimators=300, min_samples_leaf=0.10)"
   ]
  },
  {
   "cell_type": "code",
   "execution_count": 35,
   "metadata": {},
   "outputs": [
    {
     "name": "stdout",
     "output_type": "stream",
     "text": [
      "Test set RMSE of Random Forest with n_estimators= 10 and  min_samples_leaf= 1 : 9.40\n"
     ]
    },
    {
     "data": {
      "image/png": "[encoded data removed]",
      "text/plain": [
       "<Figure size 720x432 with 1 Axes>"
      ]
     },
     "metadata": {
      "needs_background": "light"
     },
     "output_type": "display_data"
    }
   ],
   "source": [
    "rf3 = random_forest_regressor(X_train.loc[:, X_train.columns != 'DepDelay'],X_test.loc[:, X_test.columns != 'DepDelay'])"
   ]
  },
  {
   "cell_type": "markdown",
   "metadata": {},
   "source": [
    "The base model performs better than the set parameters. Hence we have to find the optimum parameters of our Random Forest model. Hence we need to perform hyperparameter tuning."
   ]
  },
  {
   "cell_type": "markdown",
   "metadata": {},
   "source": [
    "## Random Forest Hyper Parameter Tuning"
   ]
  },
  {
   "cell_type": "markdown",
   "metadata": {},
   "source": [
    "The following are the Random Forest Paramters that we care going to experiment with to find the best Parameters\n",
    "* n_estimators = number of trees in the foreset\n",
    "* max_features = max number of features considered for splitting a node\n",
    "* max_depth = max number of levels in each decision tree\n",
    "* min_samples_split = min number of data points placed in a node before the node is split\n",
    "* min_samples_leaf = min number of data points allowed in a leaf node\n",
    "* bootstrap = method for sampling data points (with or without replacement)\n",
    "Our parameters\n",
    "* n_estimators = [100, 200, 300, 400, 500] = 5 possile values\n",
    "* max_features = ['auto', 'sqrt'] = 2 possile values\n",
    "* max_depth = [None, 5, 10, 15, 20, 25] = 5 possile values\n",
    "* min_samples_split = [2, 5, 10] = 3 possile values\n",
    "* min_samples_leaf = [1, 2, 4] = 3 possile values\n",
    "* bootstrap = [True, False] = 2 possile values\n",
    "Prefering RandomizedSearchCV over GridSearchCV\n",
    "* Total Possible Number of Combinations = 5 * 2 * 5 * 3 * 3 * 2 = 900 possible parameter combinations we can do.\n",
    "* 'GridSearchCV' from sklearn.model_selection library can find the best parameters from the 900 possible combinations but it will be time consuming.\n",
    "Hence using 'RandomizedSearchCV' from the same library to find the best parameters from the 60 random combinations selected out of the possible 900 combinations."
   ]
  },
  {
   "cell_type": "code",
   "execution_count": 36,
   "metadata": {},
   "outputs": [],
   "source": [
    "# Number of trees in random forest #Creates this array : [100, 200, 300, 400, 500]\n",
    "n_estimators = [int(x) for x in np.linspace(start = 100, stop = 500, num = 5)] \n",
    "# Number of features to consider at every split\n",
    "max_features = ['auto', 'sqrt']\n",
    "# Maximum number of levels in tree : Creates this array : [5, 10, 15, 20, 25]\n",
    "max_depth = [int(x) for x in np.linspace(5, 25, num = 5)]\n",
    "max_depth.append(None) #Add none to the array\n",
    "# Minimum number of samples required to split a node\n",
    "min_samples_split = [2, 5, 10]\n",
    "# Minimum number of samples required at each leaf node\n",
    "min_samples_leaf = [1, 2, 4]\n",
    "# Method of selecting samples for training each tree\n",
    "bootstrap = [True, False]\n",
    "# Create the random grid\n",
    "random_grid = {'n_estimators': n_estimators,\n",
    "               'max_features': max_features,\n",
    "               'max_depth': max_depth,\n",
    "               'min_samples_split': min_samples_split,\n",
    "               'min_samples_leaf': min_samples_leaf,\n",
    "               'bootstrap': bootstrap}"
   ]
  },
  {
   "cell_type": "code",
   "execution_count": 37,
   "metadata": {},
   "outputs": [],
   "source": [
    "# Use the random grid to search for best hyperparameters\n",
    "# First create the base model to tune\n",
    "rf = RandomForestRegressor()"
   ]
  },
  {
   "cell_type": "code",
   "execution_count": 38,
   "metadata": {},
   "outputs": [],
   "source": [
    "# Random search of parameters, using 3 fold cross validation, \n",
    "# search across 60 different combinations, and use all available cores\n",
    "rf_random = RandomizedSearchCV(estimator = rf, param_distributions = random_grid, n_iter = 20, cv = 3, verbose=2, random_state=SEED, n_jobs = 8)"
   ]
  },
  {
   "cell_type": "code",
   "execution_count": 40,
   "metadata": {},
   "outputs": [
    {
     "name": "stdout",
     "output_type": "stream",
     "text": [
      "Fitting 3 folds for each of 20 candidates, totalling 60 fits\n"
     ]
    },
    {
     "name": "stderr",
     "output_type": "stream",
     "text": [
      "[Parallel(n_jobs=8)]: Using backend LokyBackend with 8 concurrent workers.\n",
      "[Parallel(n_jobs=8)]: Done  25 tasks      | elapsed:  6.1min\n",
      "[Parallel(n_jobs=8)]: Done  60 out of  60 | elapsed: 16.8min finished\n"
     ]
    },
    {
     "data": {
      "text/plain": [
       "RandomizedSearchCV(cv=3, error_score='raise-deprecating',\n",
       "                   estimator=RandomForestRegressor(bootstrap=True,\n",
       "                                                   criterion='mse',\n",
       "                                                   max_depth=None,\n",
       "                                                   max_features='auto',\n",
       "                                                   max_leaf_nodes=None,\n",
       "                                                   min_impurity_decrease=0.0,\n",
       "                                                   min_impurity_split=None,\n",
       "                                                   min_samples_leaf=1,\n",
       "                                                   min_samples_split=2,\n",
       "                                                   min_weight_fraction_leaf=0.0,\n",
       "                                                   n_estimators='warn',\n",
       "                                                   n_jobs=None, oob_score=False,\n",
       "                                                   random_sta...\n",
       "                                                   warm_start=False),\n",
       "                   iid='warn', n_iter=20, n_jobs=8,\n",
       "                   param_distributions={'bootstrap': [True, False],\n",
       "                                        'max_depth': [5, 10, 15, 20, 25, None],\n",
       "                                        'max_features': ['auto', 'sqrt'],\n",
       "                                        'min_samples_leaf': [1, 2, 4],\n",
       "                                        'min_samples_split': [2, 5, 10],\n",
       "                                        'n_estimators': [100, 200, 300, 400,\n",
       "                                                         500]},\n",
       "                   pre_dispatch='2*n_jobs', random_state=1, refit=True,\n",
       "                   return_train_score=False, scoring=None, verbose=2)"
      ]
     },
     "execution_count": 40,
     "metadata": {},
     "output_type": "execute_result"
    }
   ],
   "source": [
    "# Fit the random search model\n",
    "rf_random.fit(X_train, y_train)"
   ]
  },
  {
   "cell_type": "code",
   "execution_count": 41,
   "metadata": {},
   "outputs": [
    {
     "data": {
      "text/plain": [
       "{'n_estimators': 400,\n",
       " 'min_samples_split': 10,\n",
       " 'min_samples_leaf': 1,\n",
       " 'max_features': 'auto',\n",
       " 'max_depth': 20,\n",
       " 'bootstrap': True}"
      ]
     },
     "execution_count": 41,
     "metadata": {},
     "output_type": "execute_result"
    }
   ],
   "source": [
    "# Finding the best combination of parameters from the 60 combinations generated above\n",
    "rf_random.best_params_"
   ]
  },
  {
   "cell_type": "code",
   "execution_count": 42,
   "metadata": {},
   "outputs": [],
   "source": [
    "# Function to predict performance of the Random Forest model\n",
    "def evaluate(model, test_features, test_labels):\n",
    "    predictions = model.predict(test_features)\n",
    "    errors = abs(predictions - test_labels)\n",
    "    print('Model Performance')\n",
    "    print('Average Error: {:0.4f} degrees.'.format(np.mean(errors)))"
   ]
  },
  {
   "cell_type": "code",
   "execution_count": 43,
   "metadata": {},
   "outputs": [
    {
     "name": "stdout",
     "output_type": "stream",
     "text": [
      "Model Performance\n",
      "Average Error: 4.7638 degrees.\n"
     ]
    }
   ],
   "source": [
    "# Finding performance of the Random Forest Regressor model\n",
    "evaluate(rf_random, X_test, y_test)"
   ]
  },
  {
   "cell_type": "code",
   "execution_count": 44,
   "metadata": {},
   "outputs": [
    {
     "data": {
      "text/plain": [
       "RandomForestRegressor(bootstrap=True, criterion='mse', max_depth=20,\n",
       "                      max_features='auto', max_leaf_nodes=None,\n",
       "                      min_impurity_decrease=0.0, min_impurity_split=None,\n",
       "                      min_samples_leaf=1, min_samples_split=10,\n",
       "                      min_weight_fraction_leaf=0.0, n_estimators=400,\n",
       "                      n_jobs=None, oob_score=False, random_state=None,\n",
       "                      verbose=0, warm_start=False)"
      ]
     },
     "execution_count": 44,
     "metadata": {},
     "output_type": "execute_result"
    }
   ],
   "source": [
    "# Finding the best estimators of our RF Regressor model\n",
    "best_random = rf_random.best_estimator_\n",
    "best_random"
   ]
  },
  {
   "cell_type": "markdown",
   "metadata": {},
   "source": [
    "`To consider doing both Random Forest and Naive Bayes, we can bin the target variable 'ArrDelay' into bins to make it as a Classification problem. We are doing this since Naive Bayes only helps in classification.`"
   ]
  },
  {
   "cell_type": "markdown",
   "metadata": {},
   "source": [
    "## Random Forest Classifier"
   ]
  },
  {
   "cell_type": "markdown",
   "metadata": {},
   "source": [
    "We can categorize ArrDelay into the following categories:\n",
    "\n",
    "* Less than -30 : Very Early\n",
    "* Less than 0 & Greater than or equal to -30 : Early\n",
    "* 0 to 5 : Ontime\n",
    "* 5 to 30 : Late\n",
    "* Greater than 30 : Very late"
   ]
  },
  {
   "cell_type": "code",
   "execution_count": 45,
   "metadata": {},
   "outputs": [],
   "source": [
    "bins = [-100, -30, 0, 5, 30, 1200]\n",
    "labels = [\"Very Early\", \"Early\", \"Ontime\", \"Late\", \"Very Late\"]\n",
    "# labels = [1,2,3,4,5]\n",
    "den['ArrDelay_category'] = pd.cut(den['ArrDelay'], bins=bins, labels=labels)"
   ]
  },
  {
   "cell_type": "code",
   "execution_count": 46,
   "metadata": {},
   "outputs": [
    {
     "data": {
      "text/plain": [
       "count     291075\n",
       "unique         5\n",
       "top        Early\n",
       "freq      150586\n",
       "Name: ArrDelay_category, dtype: object"
      ]
     },
     "execution_count": 46,
     "metadata": {},
     "output_type": "execute_result"
    }
   ],
   "source": [
    "den['ArrDelay_category'].describe()"
   ]
  },
  {
   "cell_type": "code",
   "execution_count": 47,
   "metadata": {},
   "outputs": [
    {
     "data": {
      "text/plain": [
       "CategoricalDtype(categories=['Very Early', 'Early', 'Ontime', 'Late', 'Very Late'], ordered=True)"
      ]
     },
     "execution_count": 47,
     "metadata": {},
     "output_type": "execute_result"
    }
   ],
   "source": [
    "# define y variable\n",
    "y = den['ArrDelay_category']\n",
    "y.dtype"
   ]
  },
  {
   "cell_type": "code",
   "execution_count": 48,
   "metadata": {},
   "outputs": [
    {
     "data": {
      "text/plain": [
       "dtype('O')"
      ]
     },
     "execution_count": 48,
     "metadata": {},
     "output_type": "execute_result"
    }
   ],
   "source": [
    "# Convering the y variable into object datatype so that we don't run into error while fitting the model\n",
    "y = y.astype('object')\n",
    "y.dtype"
   ]
  },
  {
   "cell_type": "code",
   "execution_count": 49,
   "metadata": {},
   "outputs": [
    {
     "data": {
      "text/plain": [
       "Early         150586\n",
       "Late           62967\n",
       "Very Late      43943\n",
       "Ontime         29426\n",
       "Very Early      4153\n",
       "Name: ArrDelay_category, dtype: int64"
      ]
     },
     "execution_count": 49,
     "metadata": {},
     "output_type": "execute_result"
    }
   ],
   "source": [
    "# Finding the counts of records in each category of ArrDelay\n",
    "y.value_counts(dropna=False)"
   ]
  },
  {
   "cell_type": "code",
   "execution_count": 50,
   "metadata": {},
   "outputs": [
    {
     "data": {
      "image/png": "[encoded data removed]",
      "text/plain": [
       "<Figure size 432x288 with 1 Axes>"
      ]
     },
     "metadata": {
      "needs_background": "light"
     },
     "output_type": "display_data"
    }
   ],
   "source": [
    "# Plotting the counts of records in each category of ArrDelay\n",
    "ax = sns.countplot(y)\n",
    "ax.set_title('Arrival Delay Category Counts')\n",
    "plt.show()"
   ]
  },
  {
   "cell_type": "code",
   "execution_count": 51,
   "metadata": {},
   "outputs": [],
   "source": [
    "# Split dataset into 70% train and 30% test. Doing this again since we have a new categorical y.\n",
    "X_train, X_test, y_train, y_test = train_test_split(X, y, test_size=0.3, random_state=SEED)"
   ]
  },
  {
   "cell_type": "code",
   "execution_count": 52,
   "metadata": {},
   "outputs": [],
   "source": [
    "# Initiate the RandomForestClassifier\n",
    "rf = RandomForestClassifier()"
   ]
  },
  {
   "cell_type": "code",
   "execution_count": 53,
   "metadata": {},
   "outputs": [],
   "source": [
    "# Using RandomizedSearchCV to find the best parameters of RandomForestClassifier\n",
    "rf_classify = RandomizedSearchCV(estimator = rf, param_distributions = random_grid, n_iter = 20, cv = 3, verbose=2, random_state=SEED, n_jobs = -1)"
   ]
  },
  {
   "cell_type": "code",
   "execution_count": 54,
   "metadata": {},
   "outputs": [
    {
     "name": "stdout",
     "output_type": "stream",
     "text": [
      "Fitting 3 folds for each of 20 candidates, totalling 60 fits\n"
     ]
    },
    {
     "name": "stderr",
     "output_type": "stream",
     "text": [
      "[Parallel(n_jobs=-1)]: Using backend LokyBackend with 40 concurrent workers.\n",
      "[Parallel(n_jobs=-1)]: Done  12 out of  60 | elapsed:  1.3min remaining:  5.2min\n",
      "[Parallel(n_jobs=-1)]: Done  43 out of  60 | elapsed:  2.3min remaining:   55.3s\n",
      "[Parallel(n_jobs=-1)]: Done  60 out of  60 | elapsed:  3.0min finished\n"
     ]
    },
    {
     "data": {
      "text/plain": [
       "RandomizedSearchCV(cv=3, error_score='raise-deprecating',\n",
       "                   estimator=RandomForestClassifier(bootstrap=True,\n",
       "                                                    class_weight=None,\n",
       "                                                    criterion='gini',\n",
       "                                                    max_depth=None,\n",
       "                                                    max_features='auto',\n",
       "                                                    max_leaf_nodes=None,\n",
       "                                                    min_impurity_decrease=0.0,\n",
       "                                                    min_impurity_split=None,\n",
       "                                                    min_samples_leaf=1,\n",
       "                                                    min_samples_split=2,\n",
       "                                                    min_weight_fraction_leaf=0.0,\n",
       "                                                    n_estimators='warn',\n",
       "                                                    n_jobs=None,\n",
       "                                                    oob_sc...\n",
       "                                                    warm_start=False),\n",
       "                   iid='warn', n_iter=20, n_jobs=-1,\n",
       "                   param_distributions={'bootstrap': [True, False],\n",
       "                                        'max_depth': [5, 10, 15, 20, 25, None],\n",
       "                                        'max_features': ['auto', 'sqrt'],\n",
       "                                        'min_samples_leaf': [1, 2, 4],\n",
       "                                        'min_samples_split': [2, 5, 10],\n",
       "                                        'n_estimators': [100, 200, 300, 400,\n",
       "                                                         500]},\n",
       "                   pre_dispatch='2*n_jobs', random_state=1, refit=True,\n",
       "                   return_train_score=False, scoring=None, verbose=2)"
      ]
     },
     "execution_count": 54,
     "metadata": {},
     "output_type": "execute_result"
    }
   ],
   "source": [
    "# Training the RandomForestClassifier model with the best parameters\n",
    "rf_classify.fit(X_train, y_train)"
   ]
  },
  {
   "cell_type": "code",
   "execution_count": 55,
   "metadata": {},
   "outputs": [
    {
     "data": {
      "text/plain": [
       "{'n_estimators': 400,\n",
       " 'min_samples_split': 10,\n",
       " 'min_samples_leaf': 1,\n",
       " 'max_features': 'auto',\n",
       " 'max_depth': 20,\n",
       " 'bootstrap': True}"
      ]
     },
     "execution_count": 55,
     "metadata": {},
     "output_type": "execute_result"
    }
   ],
   "source": [
    "rf_classify.best_params_"
   ]
  },
  {
   "cell_type": "markdown",
   "metadata": {},
   "source": [
    "*We can observe that the best parameters of both the Random Forest Classifier and Random Forest Regressor are the same. They have the same X variables but different y variable. For Classifier the target variable is binned while for the Regressor, the target variable is continous.*"
   ]
  },
  {
   "cell_type": "code",
   "execution_count": 56,
   "metadata": {},
   "outputs": [
    {
     "data": {
      "text/plain": [
       "RandomForestClassifier(bootstrap=True, class_weight=None, criterion='gini',\n",
       "                       max_depth=20, max_features='auto', max_leaf_nodes=None,\n",
       "                       min_impurity_decrease=0.0, min_impurity_split=None,\n",
       "                       min_samples_leaf=1, min_samples_split=10,\n",
       "                       min_weight_fraction_leaf=0.0, n_estimators=400,\n",
       "                       n_jobs=None, oob_score=False, random_state=None,\n",
       "                       verbose=0, warm_start=False)"
      ]
     },
     "execution_count": 56,
     "metadata": {},
     "output_type": "execute_result"
    }
   ],
   "source": [
    "rf_classify.best_estimator_"
   ]
  },
  {
   "cell_type": "code",
   "execution_count": 57,
   "metadata": {},
   "outputs": [],
   "source": [
    "# Predicting the ArrDelayCategory for our Test data\n",
    "y_pred = rf_classify.predict(X_test)"
   ]
  },
  {
   "cell_type": "code",
   "execution_count": 58,
   "metadata": {},
   "outputs": [
    {
     "data": {
      "text/plain": [
       "array([[43461,  1518,   182,     0,     0],\n",
       "       [ 4806, 13759,   242,     1,    60],\n",
       "       [ 6650,  1879,   294,     0,     0],\n",
       "       [ 1229,    13,     0,     3,     0],\n",
       "       [    0,   175,     0,     0, 13051]])"
      ]
     },
     "execution_count": 58,
     "metadata": {},
     "output_type": "execute_result"
    }
   ],
   "source": [
    "# Evaluating the performance of Test data using Confusion Matrix\n",
    "cm = confusion_matrix(y_test, y_pred)\n",
    "cm"
   ]
  },
  {
   "cell_type": "code",
   "execution_count": 59,
   "metadata": {},
   "outputs": [
    {
     "name": "stdout",
     "output_type": "stream",
     "text": [
      "              precision    recall  f1-score   support\n",
      "\n",
      "       Early       0.77      0.96      0.86     45161\n",
      "        Late       0.79      0.73      0.76     18868\n",
      "      Ontime       0.41      0.03      0.06      8823\n",
      "  Very Early       0.75      0.00      0.00      1245\n",
      "   Very Late       1.00      0.99      0.99     13226\n",
      "\n",
      "    accuracy                           0.81     87323\n",
      "   macro avg       0.74      0.54      0.54     87323\n",
      "weighted avg       0.77      0.81      0.76     87323\n",
      "\n"
     ]
    }
   ],
   "source": [
    "# Listing the Precision, Recall and other metrics for each of the category\n",
    "print(classification_report(y_test, y_pred))"
   ]
  },
  {
   "cell_type": "code",
   "execution_count": 60,
   "metadata": {},
   "outputs": [
    {
     "data": {
      "text/plain": [
       "[Text(85.18, 0.5, 'Actual'), Text(0.5, 8.5, 'Predicted')]"
      ]
     },
     "execution_count": 60,
     "metadata": {},
     "output_type": "execute_result"
    },
    {
     "data": {
      "image/png": "[encoded data removed]",
      "text/plain": [
       "<Figure size 432x288 with 1 Axes>"
      ]
     },
     "metadata": {
      "needs_background": "light"
     },
     "output_type": "display_data"
    }
   ],
   "source": [
    "# Plotting the Confusion Matrix for understanding\n",
    "ax = plt.axes()\n",
    "sns.heatmap(cm, \n",
    "            annot=True, # Show values of each cell in the heatmap\n",
    "            fmt=\"1.0f\", # or \"d for int\"\n",
    "            cmap=\"YlGnBu\", # color range of the heatmap\n",
    "            linecolor='white', # plot cell border\n",
    "            linewidths=0.1, # width of border\n",
    "            cbar=False, # hide range bar\n",
    "            xticklabels=[\"Very Early\", \"Early\", \"Ontime\", \"Late\", \"Very Late\"], # Change X and Y axis values\n",
    "            yticklabels=[\"Very Early\", \"Early\", \"Ontime\", \"Late\", \"Very Late\"],\n",
    "            square=True) # Make the Confusion Matrix Look like a square\n",
    "ax.set_title('Confusion Matrix of Random Forest Classification')\n",
    "ax.set(xlabel='Predicted', ylabel='Actual') # Change X and Y axis labels"
   ]
  },
  {
   "cell_type": "markdown",
   "metadata": {},
   "source": [
    "`The model performs well predicting 'Very Early' and 'Very Late' flights. However the Precision is poor for Ontime flights.`"
   ]
  },
  {
   "cell_type": "code",
   "execution_count": 61,
   "metadata": {},
   "outputs": [
    {
     "data": {
      "text/plain": [
       "0.808126152331001"
      ]
     },
     "execution_count": 61,
     "metadata": {},
     "output_type": "execute_result"
    }
   ],
   "source": [
    "# Finding the accuracy of the Random Forest Classifier Model\n",
    "accuracy_score(y_test, y_pred)"
   ]
  },
  {
   "cell_type": "markdown",
   "metadata": {},
   "source": [
    "## Naive bayes classifier"
   ]
  },
  {
   "cell_type": "code",
   "execution_count": 62,
   "metadata": {},
   "outputs": [],
   "source": [
    "# Initiate a Naive Bayes Model\n",
    "model = GaussianNB()\n",
    "# Train the model with the Training data\n",
    "model.fit(X_train, y_train);"
   ]
  },
  {
   "cell_type": "code",
   "execution_count": 63,
   "metadata": {},
   "outputs": [],
   "source": [
    "# Make predictions by running the Naive Bayes Model on the explanatory variables of our test data\n",
    "y_pred = model.predict(X_test)"
   ]
  },
  {
   "cell_type": "code",
   "execution_count": 64,
   "metadata": {},
   "outputs": [
    {
     "data": {
      "text/plain": [
       "array([[39502,     0,  2135,  3520,     4],\n",
       "       [ 5039,  8290,  4532,   598,   409],\n",
       "       [ 6592,     0,  1634,   596,     1],\n",
       "       [  839,     0,    22,   384,     0],\n",
       "       [    0,  2111,     0,     0, 11115]])"
      ]
     },
     "execution_count": 64,
     "metadata": {},
     "output_type": "execute_result"
    }
   ],
   "source": [
    "# Evaluating the performance of Test data using Confusion Matrix\n",
    "cm = confusion_matrix(y_test, y_pred)\n",
    "cm"
   ]
  },
  {
   "cell_type": "code",
   "execution_count": 65,
   "metadata": {},
   "outputs": [
    {
     "name": "stdout",
     "output_type": "stream",
     "text": [
      "              precision    recall  f1-score   support\n",
      "\n",
      "       Early       0.76      0.87      0.81     45161\n",
      "        Late       0.80      0.44      0.57     18868\n",
      "      Ontime       0.20      0.19      0.19      8823\n",
      "  Very Early       0.08      0.31      0.12      1245\n",
      "   Very Late       0.96      0.84      0.90     13226\n",
      "\n",
      "    accuracy                           0.70     87323\n",
      "   macro avg       0.56      0.53      0.52     87323\n",
      "weighted avg       0.73      0.70      0.70     87323\n",
      "\n"
     ]
    }
   ],
   "source": [
    "# Listing the Precision, Recall and other metrics for each of the category\n",
    "print(classification_report(y_test, y_pred))"
   ]
  },
  {
   "cell_type": "code",
   "execution_count": 66,
   "metadata": {},
   "outputs": [
    {
     "data": {
      "text/plain": [
       "[Text(85.18, 0.5, 'Actual'), Text(0.5, 8.5, 'Predicted')]"
      ]
     },
     "execution_count": 66,
     "metadata": {},
     "output_type": "execute_result"
    },
    {
     "data": {
      "image/png": "[encoded data removed]",
      "text/plain": [
       "<Figure size 432x288 with 1 Axes>"
      ]
     },
     "metadata": {
      "needs_background": "light"
     },
     "output_type": "display_data"
    }
   ],
   "source": [
    "# Plot confusion matrix\n",
    "ax = plt.axes()\n",
    "sns.heatmap(cm, \n",
    "            annot=True, # Show values of each cell in the heatmap\n",
    "            fmt=\"1.0f\", # or \"d\"\n",
    "            cmap=\"YlGnBu\", # color range of the heatmap\n",
    "            linecolor='white', # plot cell border\n",
    "            linewidths=0.1, # width of border\n",
    "            cbar=False, # hide range bar\n",
    "            xticklabels=[\"Very Early\", \"Early\", \"Ontime\", \"Late\", \"Very Late\"], # Change X and Y axis values\n",
    "            yticklabels=[\"Very Early\", \"Early\", \"Ontime\", \"Late\", \"Very Late\"],\n",
    "            square=True) # Make the Confusion Matrix Look like a square\n",
    "ax.set_title('Confusion Matrix of Naive Bayes Classification')\n",
    "ax.set(xlabel='Predicted', ylabel='Actual') # Change X and Y axis labels"
   ]
  },
  {
   "cell_type": "markdown",
   "metadata": {},
   "source": [
    "`The model performs well predicting 'Very Early' and 'Very Late' flights. However the Precision is poor for other flights. The prediction is worse than our Random Forest Classification.`"
   ]
  },
  {
   "cell_type": "code",
   "execution_count": 67,
   "metadata": {},
   "outputs": [
    {
     "data": {
      "text/plain": [
       "0.6976970557585058"
      ]
     },
     "execution_count": 67,
     "metadata": {},
     "output_type": "execute_result"
    }
   ],
   "source": [
    "# Finding the accuracy of the Random Forest Classifier Model\n",
    "accuracy_score(y_test, y_pred)"
   ]
  },
  {
   "cell_type": "markdown",
   "metadata": {},
   "source": [
    "## Conclusion"
   ]
  },
  {
   "cell_type": "markdown",
   "metadata": {},
   "source": [
    "`The accuracy of our Random Forest Classification is 81% while our Naive Bayes Classification is only 70%. We were able to generate the best Random Forest Classifier by hyperparameter tuning. However we did could not do hyperparameter tuning on the Naive Bayes classifier as it is so naive that it doesn't accept parameters except priors which we don't know. Hence Random Forest is a better Classification model for this dataset.`"
   ]
  }
 ],
 "metadata": {
  "kernelspec": {
   "display_name": "Python 3",
   "language": "python",
   "name": "python3"
  },
  "language_info": {
   "codemirror_mode": {
    "name": "ipython",
    "version": 3
   },
   "file_extension": ".py",
   "mimetype": "text/x-python",
   "name": "python",
   "nbconvert_exporter": "python",
   "pygments_lexer": "ipython3",
   "version": "3.6.9"
  }
 },
 "nbformat": 4,
 "nbformat_minor": 2
}
